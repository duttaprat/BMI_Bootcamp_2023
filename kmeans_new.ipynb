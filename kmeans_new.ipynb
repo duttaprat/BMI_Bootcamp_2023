{
  "nbformat": 4,
  "nbformat_minor": 0,
  "metadata": {
    "colab": {
      "provenance": [],
      "mount_file_id": "1AH68gJK0Cd-WkXkAkK78zQ93meEdS1K4",
      "authorship_tag": "ABX9TyMUYJZgSux4loOEM5r3xWQd",
      "include_colab_link": true
    },
    "kernelspec": {
      "name": "python3",
      "display_name": "Python 3"
    },
    "language_info": {
      "name": "python"
    }
  },
  "cells": [
    {
      "cell_type": "markdown",
      "metadata": {
        "id": "view-in-github",
        "colab_type": "text"
      },
      "source": [
        "<a href=\"https://colab.research.google.com/github/duttaprat/BMI_Bootcamp_2023/blob/master/kmeans_new.ipynb\" target=\"_parent\"><img src=\"https://colab.research.google.com/assets/colab-badge.svg\" alt=\"Open In Colab\"/></a>"
      ]
    },
    {
      "cell_type": "code",
      "execution_count": null,
      "metadata": {
        "colab": {
          "base_uri": "https://localhost:8080/"
        },
        "id": "wAHFLIjn1pPw",
        "outputId": "770fe97b-52cb-49c6-c294-c10424b37daf"
      },
      "outputs": [
        {
          "output_type": "stream",
          "name": "stderr",
          "text": [
            "<ipython-input-24-1f66c8b243e3>:5: MatplotlibDeprecationWarning: The seaborn styles shipped by Matplotlib are deprecated since 3.6, as they no longer correspond to the styles shipped by seaborn. However, they will remain available as 'seaborn-v0_8-<style>'. Alternatively, directly use the seaborn API instead.\n",
            "  style.use(\"seaborn-darkgrid\")\n"
          ]
        }
      ],
      "source": [
        "import numpy as np\n",
        "import pandas as pd\n",
        "import matplotlib.pyplot as plot\n",
        "from matplotlib.pyplot import style\n",
        "style.use(\"seaborn-darkgrid\")"
      ]
    },
    {
      "cell_type": "markdown",
      "source": [
        "## Importing Kmeans function from sklearn package"
      ],
      "metadata": {
        "id": "xgMmJVaR5G9V"
      }
    },
    {
      "cell_type": "code",
      "source": [
        "from sklearn.cluster import KMeans"
      ],
      "metadata": {
        "id": "9P_psZH44p4z"
      },
      "execution_count": null,
      "outputs": []
    },
    {
      "cell_type": "markdown",
      "source": [
        "## Importing silhouette score which act as a cluster validity index for unlabeled data"
      ],
      "metadata": {
        "id": "a2j44Rqh5Z0D"
      }
    },
    {
      "cell_type": "code",
      "source": [
        "from sklearn.metrics import silhouette_score"
      ],
      "metadata": {
        "id": "C3wq96px45Q0"
      },
      "execution_count": null,
      "outputs": []
    },
    {
      "cell_type": "markdown",
      "source": [
        "## Load the 2D data which is a user input"
      ],
      "metadata": {
        "id": "QmpQAPdp5l0H"
      }
    },
    {
      "cell_type": "code",
      "source": [
        "all_data = np.array([[1, 2], [5,8], [1.5, 1.8] ,[8,8], [9,11], [10,1], [7,5], [9,2], [3,7]])\n",
        "a = all_data\n",
        "print (a)"
      ],
      "metadata": {
        "colab": {
          "base_uri": "https://localhost:8080/"
        },
        "id": "A3Dr5C2c5eDP",
        "outputId": "7fe49ec6-2053-4828-a1dc-fbc7f7a15638"
      },
      "execution_count": null,
      "outputs": [
        {
          "output_type": "stream",
          "name": "stdout",
          "text": [
            "[[ 1.   2. ]\n",
            " [ 5.   8. ]\n",
            " [ 1.5  1.8]\n",
            " [ 8.   8. ]\n",
            " [ 9.  11. ]\n",
            " [10.   1. ]\n",
            " [ 7.   5. ]\n",
            " [ 9.   2. ]\n",
            " [ 3.   7. ]]\n"
          ]
        }
      ]
    },
    {
      "cell_type": "markdown",
      "source": [
        "## Call the Kmeans function and train the data"
      ],
      "metadata": {
        "id": "2ir9C-_C5hw0"
      }
    },
    {
      "cell_type": "code",
      "source": [
        "kmeans = KMeans(n_clusters=2)\n",
        "kmeans.fit(a)"
      ],
      "metadata": {
        "colab": {
          "base_uri": "https://localhost:8080/",
          "height": 109
        },
        "id": "OQSF8SZ95uzK",
        "outputId": "df875222-1740-45a5-91b4-3501a68fd109"
      },
      "execution_count": null,
      "outputs": [
        {
          "output_type": "stream",
          "name": "stderr",
          "text": [
            "/usr/local/lib/python3.10/dist-packages/sklearn/cluster/_kmeans.py:870: FutureWarning: The default value of `n_init` will change from 10 to 'auto' in 1.4. Set the value of `n_init` explicitly to suppress the warning\n",
            "  warnings.warn(\n"
          ]
        },
        {
          "output_type": "execute_result",
          "data": {
            "text/plain": [
              "KMeans(n_clusters=2)"
            ],
            "text/html": [
              "<style>#sk-container-id-1 {color: black;background-color: white;}#sk-container-id-1 pre{padding: 0;}#sk-container-id-1 div.sk-toggleable {background-color: white;}#sk-container-id-1 label.sk-toggleable__label {cursor: pointer;display: block;width: 100%;margin-bottom: 0;padding: 0.3em;box-sizing: border-box;text-align: center;}#sk-container-id-1 label.sk-toggleable__label-arrow:before {content: \"▸\";float: left;margin-right: 0.25em;color: #696969;}#sk-container-id-1 label.sk-toggleable__label-arrow:hover:before {color: black;}#sk-container-id-1 div.sk-estimator:hover label.sk-toggleable__label-arrow:before {color: black;}#sk-container-id-1 div.sk-toggleable__content {max-height: 0;max-width: 0;overflow: hidden;text-align: left;background-color: #f0f8ff;}#sk-container-id-1 div.sk-toggleable__content pre {margin: 0.2em;color: black;border-radius: 0.25em;background-color: #f0f8ff;}#sk-container-id-1 input.sk-toggleable__control:checked~div.sk-toggleable__content {max-height: 200px;max-width: 100%;overflow: auto;}#sk-container-id-1 input.sk-toggleable__control:checked~label.sk-toggleable__label-arrow:before {content: \"▾\";}#sk-container-id-1 div.sk-estimator input.sk-toggleable__control:checked~label.sk-toggleable__label {background-color: #d4ebff;}#sk-container-id-1 div.sk-label input.sk-toggleable__control:checked~label.sk-toggleable__label {background-color: #d4ebff;}#sk-container-id-1 input.sk-hidden--visually {border: 0;clip: rect(1px 1px 1px 1px);clip: rect(1px, 1px, 1px, 1px);height: 1px;margin: -1px;overflow: hidden;padding: 0;position: absolute;width: 1px;}#sk-container-id-1 div.sk-estimator {font-family: monospace;background-color: #f0f8ff;border: 1px dotted black;border-radius: 0.25em;box-sizing: border-box;margin-bottom: 0.5em;}#sk-container-id-1 div.sk-estimator:hover {background-color: #d4ebff;}#sk-container-id-1 div.sk-parallel-item::after {content: \"\";width: 100%;border-bottom: 1px solid gray;flex-grow: 1;}#sk-container-id-1 div.sk-label:hover label.sk-toggleable__label {background-color: #d4ebff;}#sk-container-id-1 div.sk-serial::before {content: \"\";position: absolute;border-left: 1px solid gray;box-sizing: border-box;top: 0;bottom: 0;left: 50%;z-index: 0;}#sk-container-id-1 div.sk-serial {display: flex;flex-direction: column;align-items: center;background-color: white;padding-right: 0.2em;padding-left: 0.2em;position: relative;}#sk-container-id-1 div.sk-item {position: relative;z-index: 1;}#sk-container-id-1 div.sk-parallel {display: flex;align-items: stretch;justify-content: center;background-color: white;position: relative;}#sk-container-id-1 div.sk-item::before, #sk-container-id-1 div.sk-parallel-item::before {content: \"\";position: absolute;border-left: 1px solid gray;box-sizing: border-box;top: 0;bottom: 0;left: 50%;z-index: -1;}#sk-container-id-1 div.sk-parallel-item {display: flex;flex-direction: column;z-index: 1;position: relative;background-color: white;}#sk-container-id-1 div.sk-parallel-item:first-child::after {align-self: flex-end;width: 50%;}#sk-container-id-1 div.sk-parallel-item:last-child::after {align-self: flex-start;width: 50%;}#sk-container-id-1 div.sk-parallel-item:only-child::after {width: 0;}#sk-container-id-1 div.sk-dashed-wrapped {border: 1px dashed gray;margin: 0 0.4em 0.5em 0.4em;box-sizing: border-box;padding-bottom: 0.4em;background-color: white;}#sk-container-id-1 div.sk-label label {font-family: monospace;font-weight: bold;display: inline-block;line-height: 1.2em;}#sk-container-id-1 div.sk-label-container {text-align: center;}#sk-container-id-1 div.sk-container {/* jupyter's `normalize.less` sets `[hidden] { display: none; }` but bootstrap.min.css set `[hidden] { display: none !important; }` so we also need the `!important` here to be able to override the default hidden behavior on the sphinx rendered scikit-learn.org. See: https://github.com/scikit-learn/scikit-learn/issues/21755 */display: inline-block !important;position: relative;}#sk-container-id-1 div.sk-text-repr-fallback {display: none;}</style><div id=\"sk-container-id-1\" class=\"sk-top-container\"><div class=\"sk-text-repr-fallback\"><pre>KMeans(n_clusters=2)</pre><b>In a Jupyter environment, please rerun this cell to show the HTML representation or trust the notebook. <br />On GitHub, the HTML representation is unable to render, please try loading this page with nbviewer.org.</b></div><div class=\"sk-container\" hidden><div class=\"sk-item\"><div class=\"sk-estimator sk-toggleable\"><input class=\"sk-toggleable__control sk-hidden--visually\" id=\"sk-estimator-id-1\" type=\"checkbox\" checked><label for=\"sk-estimator-id-1\" class=\"sk-toggleable__label sk-toggleable__label-arrow\">KMeans</label><div class=\"sk-toggleable__content\"><pre>KMeans(n_clusters=2)</pre></div></div></div></div></div>"
            ]
          },
          "metadata": {},
          "execution_count": 7
        }
      ]
    },
    {
      "cell_type": "markdown",
      "source": [
        "## Obtain centroids and labels as parameters"
      ],
      "metadata": {
        "id": "pCk2MqhN7mbZ"
      }
    },
    {
      "cell_type": "code",
      "source": [
        "centroids = kmeans.cluster_centers_\n",
        "label = kmeans.labels_\n",
        "print (\"Cluster Centers are :\", centroids)\n",
        "print (\"Labels :\", label)"
      ],
      "metadata": {
        "colab": {
          "base_uri": "https://localhost:8080/"
        },
        "id": "Rf6UeDyY7hHU",
        "outputId": "a79953a6-5624-4fce-90f3-f2523ec81797"
      },
      "execution_count": null,
      "outputs": [
        {
          "output_type": "stream",
          "name": "stdout",
          "text": [
            "Cluster Centers are : [[6.4   7.8  ]\n",
            " [5.375 1.7  ]]\n",
            "Labels : [1 0 1 0 0 1 0 1 0]\n"
          ]
        }
      ]
    },
    {
      "cell_type": "markdown",
      "source": [
        "## Plotting the data and their clusters"
      ],
      "metadata": {
        "id": "taS6Yzck7shw"
      }
    },
    {
      "cell_type": "code",
      "source": [
        "colours = ['m.','g.','r.', 'k.']\n",
        "for i in range(len(a)):\n",
        "    #print \"Coordinates \", a[i], \"labels\", label[i]\n",
        "    plot.plot(a[i][0], a[i][1], colours[label[i]], markersize = 10 )\n",
        "for i in range(len(centroids)):\n",
        "    plot.plot(centroids[i][0], centroids[i][1], colours[i], markersize = 12, marker='*' )\n",
        "plot.show()"
      ],
      "metadata": {
        "colab": {
          "base_uri": "https://localhost:8080/",
          "height": 494
        },
        "id": "sq7fZv0n7p8s",
        "outputId": "5f8ade60-c6f3-4c31-d87e-242b71d62a7a"
      },
      "execution_count": null,
      "outputs": [
        {
          "output_type": "stream",
          "name": "stderr",
          "text": [
            "<ipython-input-9-77a8125db8a3>:6: UserWarning: marker is redundantly defined by the 'marker' keyword argument and the fmt string \"m.\" (-> marker='.'). The keyword argument will take precedence.\n",
            "  plot.plot(centroids[i][0], centroids[i][1], colours[i], markersize = 12, marker='*' )\n",
            "<ipython-input-9-77a8125db8a3>:6: UserWarning: marker is redundantly defined by the 'marker' keyword argument and the fmt string \"g.\" (-> marker='.'). The keyword argument will take precedence.\n",
            "  plot.plot(centroids[i][0], centroids[i][1], colours[i], markersize = 12, marker='*' )\n"
          ]
        },
        {
          "output_type": "display_data",
          "data": {
            "text/plain": [
              "<Figure size 640x480 with 1 Axes>"
            ],
            "image/png": "[encoded data removed]"
          },
          "metadata": {}
        }
      ]
    },
    {
      "cell_type": "markdown",
      "source": [
        "## Calculate the cluster goodness using Silhoutte score\n",
        "* The Silhouette Coefficient for a sample is `(b - a) / max(a, b)`.\n",
        "  *  `a` is the mean intra-cluster distance\n",
        "  *  `b` is the distance between a sample and the nearest cluster that the sample is not a part of."
      ],
      "metadata": {
        "id": "VQ1ipUg98BxJ"
      }
    },
    {
      "cell_type": "code",
      "source": [
        "Sil_score=silhouette_score(a,label)\n",
        "print (\"Silhouette Score: \", Sil_score)"
      ],
      "metadata": {
        "colab": {
          "base_uri": "https://localhost:8080/"
        },
        "id": "1_GSl9hZ7vzd",
        "outputId": "ebf74190-bccf-4e61-bc04-fa61950a34bd"
      },
      "execution_count": null,
      "outputs": [
        {
          "output_type": "stream",
          "name": "stdout",
          "text": [
            "Silhouette Score:  0.33796436328535506\n"
          ]
        }
      ]
    },
    {
      "cell_type": "markdown",
      "source": [
        "# Now we will load unlabeled data from file. Preprocessing the data from the file is the main task. All the remaining part is same as previous method"
      ],
      "metadata": {
        "id": "i8fnjr2m9ce1"
      }
    },
    {
      "cell_type": "code",
      "source": [
        "from google.colab import drive\n",
        "drive.mount('/content/drive')"
      ],
      "metadata": {
        "colab": {
          "base_uri": "https://localhost:8080/"
        },
        "id": "NDLAKpIP-iMG",
        "outputId": "1bda9e5b-9175-42cc-af2a-3ae1ddab039c"
      },
      "execution_count": null,
      "outputs": [
        {
          "output_type": "stream",
          "name": "stdout",
          "text": [
            "Drive already mounted at /content/drive; to attempt to forcibly remount, call drive.mount(\"/content/drive\", force_remount=True).\n"
          ]
        }
      ]
    },
    {
      "cell_type": "code",
      "source": [
        "read_file=open(\"/content/drive/MyDrive/BMI Bootcamp/Session 2: Biomedical Data Analytics and Machine Learning/Day 3 : 07 Sep/clustering/data/2D_data.txt\",'r')\n",
        "read_content= read_file.read()\n"
      ],
      "metadata": {
        "id": "RJEhv2W-8ok5"
      },
      "execution_count": null,
      "outputs": []
    },
    {
      "cell_type": "markdown",
      "source": [
        "## Getting number of data points and number of features/samples for each data point"
      ],
      "metadata": {
        "id": "9mWvXLYNAVyM"
      }
    },
    {
      "cell_type": "code",
      "source": [
        "all_data= read_content.splitlines()\n",
        "No_data_points=len(all_data)\n",
        "print (\"Number of the data points :- \", No_data_points)\n",
        "features = all_data[0].split(\"\\t\")\n",
        "No_of_features = len(features)\n",
        "print (\"Number the features/samples :- \", No_of_features)"
      ],
      "metadata": {
        "colab": {
          "base_uri": "https://localhost:8080/"
        },
        "id": "XIVTC7WmAIHb",
        "outputId": "7cbb1599-6b57-42bf-de0f-c1230f1d706a"
      },
      "execution_count": null,
      "outputs": [
        {
          "output_type": "stream",
          "name": "stdout",
          "text": [
            "Number of the data points :-  150\n",
            "Number the features/samples :-  2\n"
          ]
        }
      ]
    },
    {
      "cell_type": "markdown",
      "source": [
        "## Loading the whole dataset in a 2D matrix"
      ],
      "metadata": {
        "id": "OZ-tLZUgAr8w"
      }
    },
    {
      "cell_type": "code",
      "source": [
        "a=np.zeros((No_data_points,No_of_features))\n",
        "counter = 0\n",
        "for lines in all_data:\n",
        "    values=lines.split('\\t')\n",
        "    for i in range(0,No_of_features):\n",
        "        a[counter][i]= values[i]\n",
        "    counter+=1\n",
        "\n",
        "print (a)    # If you want to see the whole dataset"
      ],
      "metadata": {
        "colab": {
          "base_uri": "https://localhost:8080/"
        },
        "id": "ffUF29OgAZjs",
        "outputId": "dad2f210-f908-4356-f9cc-3b4fb3a74bb9"
      },
      "execution_count": null,
      "outputs": [
        {
          "output_type": "stream",
          "name": "stdout",
          "text": [
            "[[5.1 3.5]\n",
            " [7.  3.2]\n",
            " [6.3 3.3]\n",
            " [4.9 3. ]\n",
            " [6.4 3.2]\n",
            " [5.8 2.7]\n",
            " [4.7 3.2]\n",
            " [6.9 3.1]\n",
            " [7.1 3. ]\n",
            " [4.6 3.1]\n",
            " [5.5 2.3]\n",
            " [6.3 2.9]\n",
            " [5.  3.6]\n",
            " [6.5 2.8]\n",
            " [6.5 3. ]\n",
            " [5.4 3.9]\n",
            " [5.7 2.8]\n",
            " [7.6 3. ]\n",
            " [4.6 3.4]\n",
            " [6.3 3.3]\n",
            " [4.9 2.5]\n",
            " [5.  3.4]\n",
            " [4.9 2.4]\n",
            " [7.3 2.9]\n",
            " [4.4 2.9]\n",
            " [6.6 2.9]\n",
            " [6.7 2.5]\n",
            " [4.9 3.1]\n",
            " [5.2 2.7]\n",
            " [7.2 3.6]\n",
            " [5.4 3.7]\n",
            " [5.  2. ]\n",
            " [6.5 3.2]\n",
            " [4.8 3.4]\n",
            " [5.9 3. ]\n",
            " [6.4 2.7]\n",
            " [4.8 3. ]\n",
            " [6.  2.2]\n",
            " [6.8 3. ]\n",
            " [4.3 3. ]\n",
            " [6.1 2.9]\n",
            " [5.7 2.5]\n",
            " [5.8 4. ]\n",
            " [5.6 2.9]\n",
            " [5.8 2.8]\n",
            " [5.7 4.4]\n",
            " [6.7 3.1]\n",
            " [6.4 3.2]\n",
            " [5.4 3.9]\n",
            " [5.6 3. ]\n",
            " [6.5 3. ]\n",
            " [5.1 3.5]\n",
            " [5.8 2.7]\n",
            " [7.7 3.8]\n",
            " [5.7 3.8]\n",
            " [6.2 2.2]\n",
            " [7.7 2.6]\n",
            " [5.1 3.8]\n",
            " [5.6 2.5]\n",
            " [6.  2.2]\n",
            " [5.4 3.4]\n",
            " [5.9 3.2]\n",
            " [6.9 3.2]\n",
            " [5.1 3.7]\n",
            " [6.1 2.8]\n",
            " [5.6 2.8]\n",
            " [4.6 3.6]\n",
            " [6.3 2.5]\n",
            " [7.7 2.8]\n",
            " [5.1 3.3]\n",
            " [6.1 2.8]\n",
            " [6.3 2.7]\n",
            " [4.8 3.4]\n",
            " [6.4 2.9]\n",
            " [6.7 3.3]\n",
            " [5.  3. ]\n",
            " [6.6 3. ]\n",
            " [7.2 3.2]\n",
            " [5.  3.4]\n",
            " [6.8 2.8]\n",
            " [6.2 2.8]\n",
            " [5.2 3.5]\n",
            " [6.7 3. ]\n",
            " [6.1 3. ]\n",
            " [5.2 3.4]\n",
            " [6.  2.9]\n",
            " [6.4 2.8]\n",
            " [4.7 3.2]\n",
            " [5.7 2.6]\n",
            " [7.2 3. ]\n",
            " [4.8 3.1]\n",
            " [5.5 2.4]\n",
            " [7.4 2.8]\n",
            " [5.4 3.4]\n",
            " [5.5 2.4]\n",
            " [7.9 3.8]\n",
            " [5.2 4.1]\n",
            " [5.8 2.7]\n",
            " [6.4 2.8]\n",
            " [5.5 4.2]\n",
            " [6.  2.7]\n",
            " [6.3 2.8]\n",
            " [4.9 3.1]\n",
            " [5.4 3. ]\n",
            " [6.1 2.6]\n",
            " [5.  3.2]\n",
            " [6.  3.4]\n",
            " [7.7 3. ]\n",
            " [5.5 3.5]\n",
            " [6.7 3.1]\n",
            " [6.3 3.4]\n",
            " [4.9 3.6]\n",
            " [6.3 2.3]\n",
            " [6.4 3.1]\n",
            " [4.4 3. ]\n",
            " [5.6 3. ]\n",
            " [6.  3. ]\n",
            " [5.1 3.4]\n",
            " [5.5 2.5]\n",
            " [6.9 3.1]\n",
            " [5.  3.5]\n",
            " [5.5 2.6]\n",
            " [6.7 3.1]\n",
            " [4.5 2.3]\n",
            " [6.1 3. ]\n",
            " [6.9 3.1]\n",
            " [4.4 3.2]\n",
            " [5.8 2.6]\n",
            " [5.8 2.7]\n",
            " [5.  3.5]\n",
            " [5.  2.3]\n",
            " [6.8 3.2]\n",
            " [5.1 3.8]\n",
            " [5.6 2.7]\n",
            " [6.7 3.3]\n",
            " [4.8 3. ]\n",
            " [5.7 3. ]\n",
            " [6.7 3. ]\n",
            " [5.1 3.8]\n",
            " [5.7 2.9]\n",
            " [6.3 2.5]\n",
            " [4.6 3.2]\n",
            " [6.2 2.9]\n",
            " [6.5 3. ]\n",
            " [5.3 3.7]\n",
            " [5.1 2.5]\n",
            " [6.2 3.4]\n",
            " [5.  3.3]\n",
            " [5.7 2.8]\n",
            " [5.9 3. ]]\n"
          ]
        }
      ]
    },
    {
      "cell_type": "markdown",
      "source": [
        "## Call the Kmeans function and train the data"
      ],
      "metadata": {
        "id": "sV2cb3aTA03A"
      }
    },
    {
      "cell_type": "code",
      "source": [
        "kmeans = KMeans(n_clusters=2)\n",
        "kmeans.fit(a)"
      ],
      "metadata": {
        "colab": {
          "base_uri": "https://localhost:8080/",
          "height": 109
        },
        "id": "WGGh9SCtAd7K",
        "outputId": "61188519-b405-4b82-e899-535658cde276"
      },
      "execution_count": null,
      "outputs": [
        {
          "output_type": "stream",
          "name": "stderr",
          "text": [
            "/usr/local/lib/python3.10/dist-packages/sklearn/cluster/_kmeans.py:870: FutureWarning: The default value of `n_init` will change from 10 to 'auto' in 1.4. Set the value of `n_init` explicitly to suppress the warning\n",
            "  warnings.warn(\n"
          ]
        },
        {
          "output_type": "execute_result",
          "data": {
            "text/plain": [
              "KMeans(n_clusters=2)"
            ],
            "text/html": [
              "<style>#sk-container-id-3 {color: black;background-color: white;}#sk-container-id-3 pre{padding: 0;}#sk-container-id-3 div.sk-toggleable {background-color: white;}#sk-container-id-3 label.sk-toggleable__label {cursor: pointer;display: block;width: 100%;margin-bottom: 0;padding: 0.3em;box-sizing: border-box;text-align: center;}#sk-container-id-3 label.sk-toggleable__label-arrow:before {content: \"▸\";float: left;margin-right: 0.25em;color: #696969;}#sk-container-id-3 label.sk-toggleable__label-arrow:hover:before {color: black;}#sk-container-id-3 div.sk-estimator:hover label.sk-toggleable__label-arrow:before {color: black;}#sk-container-id-3 div.sk-toggleable__content {max-height: 0;max-width: 0;overflow: hidden;text-align: left;background-color: #f0f8ff;}#sk-container-id-3 div.sk-toggleable__content pre {margin: 0.2em;color: black;border-radius: 0.25em;background-color: #f0f8ff;}#sk-container-id-3 input.sk-toggleable__control:checked~div.sk-toggleable__content {max-height: 200px;max-width: 100%;overflow: auto;}#sk-container-id-3 input.sk-toggleable__control:checked~label.sk-toggleable__label-arrow:before {content: \"▾\";}#sk-container-id-3 div.sk-estimator input.sk-toggleable__control:checked~label.sk-toggleable__label {background-color: #d4ebff;}#sk-container-id-3 div.sk-label input.sk-toggleable__control:checked~label.sk-toggleable__label {background-color: #d4ebff;}#sk-container-id-3 input.sk-hidden--visually {border: 0;clip: rect(1px 1px 1px 1px);clip: rect(1px, 1px, 1px, 1px);height: 1px;margin: -1px;overflow: hidden;padding: 0;position: absolute;width: 1px;}#sk-container-id-3 div.sk-estimator {font-family: monospace;background-color: #f0f8ff;border: 1px dotted black;border-radius: 0.25em;box-sizing: border-box;margin-bottom: 0.5em;}#sk-container-id-3 div.sk-estimator:hover {background-color: #d4ebff;}#sk-container-id-3 div.sk-parallel-item::after {content: \"\";width: 100%;border-bottom: 1px solid gray;flex-grow: 1;}#sk-container-id-3 div.sk-label:hover label.sk-toggleable__label {background-color: #d4ebff;}#sk-container-id-3 div.sk-serial::before {content: \"\";position: absolute;border-left: 1px solid gray;box-sizing: border-box;top: 0;bottom: 0;left: 50%;z-index: 0;}#sk-container-id-3 div.sk-serial {display: flex;flex-direction: column;align-items: center;background-color: white;padding-right: 0.2em;padding-left: 0.2em;position: relative;}#sk-container-id-3 div.sk-item {position: relative;z-index: 1;}#sk-container-id-3 div.sk-parallel {display: flex;align-items: stretch;justify-content: center;background-color: white;position: relative;}#sk-container-id-3 div.sk-item::before, #sk-container-id-3 div.sk-parallel-item::before {content: \"\";position: absolute;border-left: 1px solid gray;box-sizing: border-box;top: 0;bottom: 0;left: 50%;z-index: -1;}#sk-container-id-3 div.sk-parallel-item {display: flex;flex-direction: column;z-index: 1;position: relative;background-color: white;}#sk-container-id-3 div.sk-parallel-item:first-child::after {align-self: flex-end;width: 50%;}#sk-container-id-3 div.sk-parallel-item:last-child::after {align-self: flex-start;width: 50%;}#sk-container-id-3 div.sk-parallel-item:only-child::after {width: 0;}#sk-container-id-3 div.sk-dashed-wrapped {border: 1px dashed gray;margin: 0 0.4em 0.5em 0.4em;box-sizing: border-box;padding-bottom: 0.4em;background-color: white;}#sk-container-id-3 div.sk-label label {font-family: monospace;font-weight: bold;display: inline-block;line-height: 1.2em;}#sk-container-id-3 div.sk-label-container {text-align: center;}#sk-container-id-3 div.sk-container {/* jupyter's `normalize.less` sets `[hidden] { display: none; }` but bootstrap.min.css set `[hidden] { display: none !important; }` so we also need the `!important` here to be able to override the default hidden behavior on the sphinx rendered scikit-learn.org. See: https://github.com/scikit-learn/scikit-learn/issues/21755 */display: inline-block !important;position: relative;}#sk-container-id-3 div.sk-text-repr-fallback {display: none;}</style><div id=\"sk-container-id-3\" class=\"sk-top-container\"><div class=\"sk-text-repr-fallback\"><pre>KMeans(n_clusters=2)</pre><b>In a Jupyter environment, please rerun this cell to show the HTML representation or trust the notebook. <br />On GitHub, the HTML representation is unable to render, please try loading this page with nbviewer.org.</b></div><div class=\"sk-container\" hidden><div class=\"sk-item\"><div class=\"sk-estimator sk-toggleable\"><input class=\"sk-toggleable__control sk-hidden--visually\" id=\"sk-estimator-id-3\" type=\"checkbox\" checked><label for=\"sk-estimator-id-3\" class=\"sk-toggleable__label sk-toggleable__label-arrow\">KMeans</label><div class=\"sk-toggleable__content\"><pre>KMeans(n_clusters=2)</pre></div></div></div></div></div>"
            ]
          },
          "metadata": {},
          "execution_count": 20
        }
      ]
    },
    {
      "cell_type": "markdown",
      "source": [
        "## Obtain centroids and labels as parameters"
      ],
      "metadata": {
        "id": "tqa0Au3EA7nT"
      }
    },
    {
      "cell_type": "code",
      "source": [
        "centroids = kmeans.cluster_centers_\n",
        "label = kmeans.labels_\n",
        "print (\"Cluster Centers are :\", centroids)\n",
        "print (\"Labels :\", label)"
      ],
      "metadata": {
        "colab": {
          "base_uri": "https://localhost:8080/"
        },
        "id": "PDyNka8wA4bH",
        "outputId": "df1ec1c7-6970-43ec-a43e-cca8422ecec1"
      },
      "execution_count": null,
      "outputs": [
        {
          "output_type": "stream",
          "name": "stdout",
          "text": [
            "Cluster Centers are : [[6.61044776 2.96567164]\n",
            " [5.22409639 3.1313253 ]]\n",
            "Labels : [1 0 0 1 0 1 1 0 0 1 1 0 1 0 0 1 1 0 1 0 1 1 1 0 1 0 0 1 1 0 1 1 0 1 1 0 1\n",
            " 0 0 1 0 1 1 1 1 1 0 0 1 1 0 1 1 0 1 0 0 1 1 0 1 1 0 1 0 1 1 0 0 1 0 0 1 0\n",
            " 0 1 0 0 1 0 0 1 0 0 1 0 0 1 1 0 1 1 0 1 1 0 1 1 0 1 0 0 1 1 0 1 0 0 1 0 0\n",
            " 1 0 0 1 1 0 1 1 0 1 1 0 1 0 0 1 1 1 1 1 0 1 1 0 1 1 0 1 1 0 1 0 0 1 1 0 1\n",
            " 1 1]\n"
          ]
        }
      ]
    },
    {
      "cell_type": "markdown",
      "source": [
        "## Plotting the data and their clusters"
      ],
      "metadata": {
        "id": "Eg9alKyxBFSV"
      }
    },
    {
      "cell_type": "code",
      "source": [
        "colours = ['m.','g.','r.', 'k.']\n",
        "for i in range(len(a)):\n",
        "    #print \"Coordinates \", a[i], \"labels\", label[i]\n",
        "    plot.plot(a[i][0], a[i][1], colours[label[i]], markersize = 10 )\n",
        "for i in range(len(centroids)):\n",
        "    plot.plot(centroids[i][0], centroids[i][1], colours[i], markersize = 12, marker='*' )\n",
        "plot.show()"
      ],
      "metadata": {
        "colab": {
          "base_uri": "https://localhost:8080/",
          "height": 497
        },
        "id": "HKV8gcp-A_lM",
        "outputId": "67b908f0-9a41-4018-b366-01c034b5df6b"
      },
      "execution_count": null,
      "outputs": [
        {
          "output_type": "stream",
          "name": "stderr",
          "text": [
            "<ipython-input-22-77a8125db8a3>:6: UserWarning: marker is redundantly defined by the 'marker' keyword argument and the fmt string \"m.\" (-> marker='.'). The keyword argument will take precedence.\n",
            "  plot.plot(centroids[i][0], centroids[i][1], colours[i], markersize = 12, marker='*' )\n",
            "<ipython-input-22-77a8125db8a3>:6: UserWarning: marker is redundantly defined by the 'marker' keyword argument and the fmt string \"g.\" (-> marker='.'). The keyword argument will take precedence.\n",
            "  plot.plot(centroids[i][0], centroids[i][1], colours[i], markersize = 12, marker='*' )\n"
          ]
        },
        {
          "output_type": "display_data",
          "data": {
            "text/plain": [
              "<Figure size 640x480 with 1 Axes>"
            ],
            "image/png": "[encoded data removed]"
          },
          "metadata": {}
        }
      ]
    },
    {
      "cell_type": "code",
      "source": [
        "Sil_score=silhouette_score(a,label)\n",
        "print (\"Silhouette Score: \", Sil_score)"
      ],
      "metadata": {
        "colab": {
          "base_uri": "https://localhost:8080/"
        },
        "id": "0Zc9oD6vBDfh",
        "outputId": "759565ed-3c4d-455d-94fa-135cd3f1a0f1"
      },
      "execution_count": null,
      "outputs": [
        {
          "output_type": "stream",
          "name": "stdout",
          "text": [
            "Silhouette Score:  0.4629549773635977\n"
          ]
        }
      ]
    },
    {
      "cell_type": "markdown",
      "source": [
        "## load the data as `pandas dataframe` and apply `k-means` clustering  "
      ],
      "metadata": {
        "id": "F7-CPmaCCBLE"
      }
    },
    {
      "cell_type": "code",
      "source": [
        "data= pd.read_csv(\"/content/drive/MyDrive/BMI Bootcamp/Session 2: Biomedical Data Analytics and Machine Learning/Day 3 : 07 Sep/clustering/data/2D_data.txt\",sep='\\t', header=None)\n",
        "data"
      ],
      "metadata": {
        "colab": {
          "base_uri": "https://localhost:8080/",
          "height": 423
        },
        "id": "XZM6sxpFB1gh",
        "outputId": "0b71dc25-3438-4c08-d6d9-f2da04de6ef2"
      },
      "execution_count": null,
      "outputs": [
        {
          "output_type": "execute_result",
          "data": {
            "text/plain": [
              "       0    1\n",
              "0    5.1  3.5\n",
              "1    7.0  3.2\n",
              "2    6.3  3.3\n",
              "3    4.9  3.0\n",
              "4    6.4  3.2\n",
              "..   ...  ...\n",
              "145  5.1  2.5\n",
              "146  6.2  3.4\n",
              "147  5.0  3.3\n",
              "148  5.7  2.8\n",
              "149  5.9  3.0\n",
              "\n",
              "[150 rows x 2 columns]"
            ],
            "text/html": [
              "\n",
              "  <div id=\"df-51ea838a-6e6d-4788-9fec-2e3695ed61ac\" class=\"colab-df-container\">\n",
              "    <div>\n",
              "<style scoped>\n",
              "    .dataframe tbody tr th:only-of-type {\n",
              "        vertical-align: middle;\n",
              "    }\n",
              "\n",
              "    .dataframe tbody tr th {\n",
              "        vertical-align: top;\n",
              "    }\n",
              "\n",
              "    .dataframe thead th {\n",
              "        text-align: right;\n",
              "    }\n",
              "</style>\n",
              "<table border=\"1\" class=\"dataframe\">\n",
              "  <thead>\n",
              "    <tr style=\"text-align: right;\">\n",
              "      <th></th>\n",
              "      <th>0</th>\n",
              "      <th>1</th>\n",
              "    </tr>\n",
              "  </thead>\n",
              "  <tbody>\n",
              "    <tr>\n",
              "      <th>0</th>\n",
              "      <td>5.1</td>\n",
              "      <td>3.5</td>\n",
              "    </tr>\n",
              "    <tr>\n",
              "      <th>1</th>\n",
              "      <td>7.0</td>\n",
              "      <td>3.2</td>\n",
              "    </tr>\n",
              "    <tr>\n",
              "      <th>2</th>\n",
              "      <td>6.3</td>\n",
              "      <td>3.3</td>\n",
              "    </tr>\n",
              "    <tr>\n",
              "      <th>3</th>\n",
              "      <td>4.9</td>\n",
              "      <td>3.0</td>\n",
              "    </tr>\n",
              "    <tr>\n",
              "      <th>4</th>\n",
              "      <td>6.4</td>\n",
              "      <td>3.2</td>\n",
              "    </tr>\n",
              "    <tr>\n",
              "      <th>...</th>\n",
              "      <td>...</td>\n",
              "      <td>...</td>\n",
              "    </tr>\n",
              "    <tr>\n",
              "      <th>145</th>\n",
              "      <td>5.1</td>\n",
              "      <td>2.5</td>\n",
              "    </tr>\n",
              "    <tr>\n",
              "      <th>146</th>\n",
              "      <td>6.2</td>\n",
              "      <td>3.4</td>\n",
              "    </tr>\n",
              "    <tr>\n",
              "      <th>147</th>\n",
              "      <td>5.0</td>\n",
              "      <td>3.3</td>\n",
              "    </tr>\n",
              "    <tr>\n",
              "      <th>148</th>\n",
              "      <td>5.7</td>\n",
              "      <td>2.8</td>\n",
              "    </tr>\n",
              "    <tr>\n",
              "      <th>149</th>\n",
              "      <td>5.9</td>\n",
              "      <td>3.0</td>\n",
              "    </tr>\n",
              "  </tbody>\n",
              "</table>\n",
              "<p>150 rows × 2 columns</p>\n",
              "</div>\n",
              "    <div class=\"colab-df-buttons\">\n",
              "\n",
              "  <div class=\"colab-df-container\">\n",
              "    <button class=\"colab-df-convert\" onclick=\"convertToInteractive('df-51ea838a-6e6d-4788-9fec-2e3695ed61ac')\"\n",
              "            title=\"Convert this dataframe to an interactive table.\"\n",
              "            style=\"display:none;\">\n",
              "\n",
              "  <svg xmlns=\"http://www.w3.org/2000/svg\" height=\"24px\" viewBox=\"0 -960 960 960\">\n",
              "    <path d=\"M120-120v-720h720v720H120Zm60-500h600v-160H180v160Zm220 220h160v-160H400v160Zm0 220h160v-160H400v160ZM180-400h160v-160H180v160Zm440 0h160v-160H620v160ZM180-180h160v-160H180v160Zm440 0h160v-160H620v160Z\"/>\n",
              "  </svg>\n",
              "    </button>\n",
              "\n",
              "  <style>\n",
              "    .colab-df-container {\n",
              "      display:flex;\n",
              "      gap: 12px;\n",
              "    }\n",
              "\n",
              "    .colab-df-convert {\n",
              "      background-color: #E8F0FE;\n",
              "      border: none;\n",
              "      border-radius: 50%;\n",
              "      cursor: pointer;\n",
              "      display: none;\n",
              "      fill: #1967D2;\n",
              "      height: 32px;\n",
              "      padding: 0 0 0 0;\n",
              "      width: 32px;\n",
              "    }\n",
              "\n",
              "    .colab-df-convert:hover {\n",
              "      background-color: #E2EBFA;\n",
              "      box-shadow: 0px 1px 2px rgba(60, 64, 67, 0.3), 0px 1px 3px 1px rgba(60, 64, 67, 0.15);\n",
              "      fill: #174EA6;\n",
              "    }\n",
              "\n",
              "    .colab-df-buttons div {\n",
              "      margin-bottom: 4px;\n",
              "    }\n",
              "\n",
              "    [theme=dark] .colab-df-convert {\n",
              "      background-color: #3B4455;\n",
              "      fill: #D2E3FC;\n",
              "    }\n",
              "\n",
              "    [theme=dark] .colab-df-convert:hover {\n",
              "      background-color: #434B5C;\n",
              "      box-shadow: 0px 1px 3px 1px rgba(0, 0, 0, 0.15);\n",
              "      filter: drop-shadow(0px 1px 2px rgba(0, 0, 0, 0.3));\n",
              "      fill: #FFFFFF;\n",
              "    }\n",
              "  </style>\n",
              "\n",
              "    <script>\n",
              "      const buttonEl =\n",
              "        document.querySelector('#df-51ea838a-6e6d-4788-9fec-2e3695ed61ac button.colab-df-convert');\n",
              "      buttonEl.style.display =\n",
              "        google.colab.kernel.accessAllowed ? 'block' : 'none';\n",
              "\n",
              "      async function convertToInteractive(key) {\n",
              "        const element = document.querySelector('#df-51ea838a-6e6d-4788-9fec-2e3695ed61ac');\n",
              "        const dataTable =\n",
              "          await google.colab.kernel.invokeFunction('convertToInteractive',\n",
              "                                                    [key], {});\n",
              "        if (!dataTable) return;\n",
              "\n",
              "        const docLinkHtml = 'Like what you see? Visit the ' +\n",
              "          '<a target=\"_blank\" href=https://colab.research.google.com/notebooks/data_table.ipynb>data table notebook</a>'\n",
              "          + ' to learn more about interactive tables.';\n",
              "        element.innerHTML = '';\n",
              "        dataTable['output_type'] = 'display_data';\n",
              "        await google.colab.output.renderOutput(dataTable, element);\n",
              "        const docLink = document.createElement('div');\n",
              "        docLink.innerHTML = docLinkHtml;\n",
              "        element.appendChild(docLink);\n",
              "      }\n",
              "    </script>\n",
              "  </div>\n",
              "\n",
              "\n",
              "<div id=\"df-e9db18f5-a432-43af-bb2c-d85cc0f28e71\">\n",
              "  <button class=\"colab-df-quickchart\" onclick=\"quickchart('df-e9db18f5-a432-43af-bb2c-d85cc0f28e71')\"\n",
              "            title=\"Suggest charts.\"\n",
              "            style=\"display:none;\">\n",
              "\n",
              "<svg xmlns=\"http://www.w3.org/2000/svg\" height=\"24px\"viewBox=\"0 0 24 24\"\n",
              "     width=\"24px\">\n",
              "    <g>\n",
              "        <path d=\"M19 3H5c-1.1 0-2 .9-2 2v14c0 1.1.9 2 2 2h14c1.1 0 2-.9 2-2V5c0-1.1-.9-2-2-2zM9 17H7v-7h2v7zm4 0h-2V7h2v10zm4 0h-2v-4h2v4z\"/>\n",
              "    </g>\n",
              "</svg>\n",
              "  </button>\n",
              "\n",
              "<style>\n",
              "  .colab-df-quickchart {\n",
              "      --bg-color: #E8F0FE;\n",
              "      --fill-color: #1967D2;\n",
              "      --hover-bg-color: #E2EBFA;\n",
              "      --hover-fill-color: #174EA6;\n",
              "      --disabled-fill-color: #AAA;\n",
              "      --disabled-bg-color: #DDD;\n",
              "  }\n",
              "\n",
              "  [theme=dark] .colab-df-quickchart {\n",
              "      --bg-color: #3B4455;\n",
              "      --fill-color: #D2E3FC;\n",
              "      --hover-bg-color: #434B5C;\n",
              "      --hover-fill-color: #FFFFFF;\n",
              "      --disabled-bg-color: #3B4455;\n",
              "      --disabled-fill-color: #666;\n",
              "  }\n",
              "\n",
              "  .colab-df-quickchart {\n",
              "    background-color: var(--bg-color);\n",
              "    border: none;\n",
              "    border-radius: 50%;\n",
              "    cursor: pointer;\n",
              "    display: none;\n",
              "    fill: var(--fill-color);\n",
              "    height: 32px;\n",
              "    padding: 0;\n",
              "    width: 32px;\n",
              "  }\n",
              "\n",
              "  .colab-df-quickchart:hover {\n",
              "    background-color: var(--hover-bg-color);\n",
              "    box-shadow: 0 1px 2px rgba(60, 64, 67, 0.3), 0 1px 3px 1px rgba(60, 64, 67, 0.15);\n",
              "    fill: var(--button-hover-fill-color);\n",
              "  }\n",
              "\n",
              "  .colab-df-quickchart-complete:disabled,\n",
              "  .colab-df-quickchart-complete:disabled:hover {\n",
              "    background-color: var(--disabled-bg-color);\n",
              "    fill: var(--disabled-fill-color);\n",
              "    box-shadow: none;\n",
              "  }\n",
              "\n",
              "  .colab-df-spinner {\n",
              "    border: 2px solid var(--fill-color);\n",
              "    border-color: transparent;\n",
              "    border-bottom-color: var(--fill-color);\n",
              "    animation:\n",
              "      spin 1s steps(1) infinite;\n",
              "  }\n",
              "\n",
              "  @keyframes spin {\n",
              "    0% {\n",
              "      border-color: transparent;\n",
              "      border-bottom-color: var(--fill-color);\n",
              "      border-left-color: var(--fill-color);\n",
              "    }\n",
              "    20% {\n",
              "      border-color: transparent;\n",
              "      border-left-color: var(--fill-color);\n",
              "      border-top-color: var(--fill-color);\n",
              "    }\n",
              "    30% {\n",
              "      border-color: transparent;\n",
              "      border-left-color: var(--fill-color);\n",
              "      border-top-color: var(--fill-color);\n",
              "      border-right-color: var(--fill-color);\n",
              "    }\n",
              "    40% {\n",
              "      border-color: transparent;\n",
              "      border-right-color: var(--fill-color);\n",
              "      border-top-color: var(--fill-color);\n",
              "    }\n",
              "    60% {\n",
              "      border-color: transparent;\n",
              "      border-right-color: var(--fill-color);\n",
              "    }\n",
              "    80% {\n",
              "      border-color: transparent;\n",
              "      border-right-color: var(--fill-color);\n",
              "      border-bottom-color: var(--fill-color);\n",
              "    }\n",
              "    90% {\n",
              "      border-color: transparent;\n",
              "      border-bottom-color: var(--fill-color);\n",
              "    }\n",
              "  }\n",
              "</style>\n",
              "\n",
              "  <script>\n",
              "    async function quickchart(key) {\n",
              "      const quickchartButtonEl =\n",
              "        document.querySelector('#' + key + ' button');\n",
              "      quickchartButtonEl.disabled = true;  // To prevent multiple clicks.\n",
              "      quickchartButtonEl.classList.add('colab-df-spinner');\n",
              "      try {\n",
              "        const charts = await google.colab.kernel.invokeFunction(\n",
              "            'suggestCharts', [key], {});\n",
              "      } catch (error) {\n",
              "        console.error('Error during call to suggestCharts:', error);\n",
              "      }\n",
              "      quickchartButtonEl.classList.remove('colab-df-spinner');\n",
              "      quickchartButtonEl.classList.add('colab-df-quickchart-complete');\n",
              "    }\n",
              "    (() => {\n",
              "      let quickchartButtonEl =\n",
              "        document.querySelector('#df-e9db18f5-a432-43af-bb2c-d85cc0f28e71 button');\n",
              "      quickchartButtonEl.style.display =\n",
              "        google.colab.kernel.accessAllowed ? 'block' : 'none';\n",
              "    })();\n",
              "  </script>\n",
              "</div>\n",
              "    </div>\n",
              "  </div>\n"
            ]
          },
          "metadata": {},
          "execution_count": 28
        }
      ]
    },
    {
      "cell_type": "code",
      "source": [
        "kmeans = KMeans(n_clusters=2)\n",
        "kmeans.fit(a)"
      ],
      "metadata": {
        "colab": {
          "base_uri": "https://localhost:8080/",
          "height": 109
        },
        "id": "hbTrnC5hCfaP",
        "outputId": "bb280321-8939-4df1-d604-7969d23c0802"
      },
      "execution_count": null,
      "outputs": [
        {
          "output_type": "stream",
          "name": "stderr",
          "text": [
            "/usr/local/lib/python3.10/dist-packages/sklearn/cluster/_kmeans.py:870: FutureWarning: The default value of `n_init` will change from 10 to 'auto' in 1.4. Set the value of `n_init` explicitly to suppress the warning\n",
            "  warnings.warn(\n"
          ]
        },
        {
          "output_type": "execute_result",
          "data": {
            "text/plain": [
              "KMeans(n_clusters=2)"
            ],
            "text/html": [
              "<style>#sk-container-id-4 {color: black;background-color: white;}#sk-container-id-4 pre{padding: 0;}#sk-container-id-4 div.sk-toggleable {background-color: white;}#sk-container-id-4 label.sk-toggleable__label {cursor: pointer;display: block;width: 100%;margin-bottom: 0;padding: 0.3em;box-sizing: border-box;text-align: center;}#sk-container-id-4 label.sk-toggleable__label-arrow:before {content: \"▸\";float: left;margin-right: 0.25em;color: #696969;}#sk-container-id-4 label.sk-toggleable__label-arrow:hover:before {color: black;}#sk-container-id-4 div.sk-estimator:hover label.sk-toggleable__label-arrow:before {color: black;}#sk-container-id-4 div.sk-toggleable__content {max-height: 0;max-width: 0;overflow: hidden;text-align: left;background-color: #f0f8ff;}#sk-container-id-4 div.sk-toggleable__content pre {margin: 0.2em;color: black;border-radius: 0.25em;background-color: #f0f8ff;}#sk-container-id-4 input.sk-toggleable__control:checked~div.sk-toggleable__content {max-height: 200px;max-width: 100%;overflow: auto;}#sk-container-id-4 input.sk-toggleable__control:checked~label.sk-toggleable__label-arrow:before {content: \"▾\";}#sk-container-id-4 div.sk-estimator input.sk-toggleable__control:checked~label.sk-toggleable__label {background-color: #d4ebff;}#sk-container-id-4 div.sk-label input.sk-toggleable__control:checked~label.sk-toggleable__label {background-color: #d4ebff;}#sk-container-id-4 input.sk-hidden--visually {border: 0;clip: rect(1px 1px 1px 1px);clip: rect(1px, 1px, 1px, 1px);height: 1px;margin: -1px;overflow: hidden;padding: 0;position: absolute;width: 1px;}#sk-container-id-4 div.sk-estimator {font-family: monospace;background-color: #f0f8ff;border: 1px dotted black;border-radius: 0.25em;box-sizing: border-box;margin-bottom: 0.5em;}#sk-container-id-4 div.sk-estimator:hover {background-color: #d4ebff;}#sk-container-id-4 div.sk-parallel-item::after {content: \"\";width: 100%;border-bottom: 1px solid gray;flex-grow: 1;}#sk-container-id-4 div.sk-label:hover label.sk-toggleable__label {background-color: #d4ebff;}#sk-container-id-4 div.sk-serial::before {content: \"\";position: absolute;border-left: 1px solid gray;box-sizing: border-box;top: 0;bottom: 0;left: 50%;z-index: 0;}#sk-container-id-4 div.sk-serial {display: flex;flex-direction: column;align-items: center;background-color: white;padding-right: 0.2em;padding-left: 0.2em;position: relative;}#sk-container-id-4 div.sk-item {position: relative;z-index: 1;}#sk-container-id-4 div.sk-parallel {display: flex;align-items: stretch;justify-content: center;background-color: white;position: relative;}#sk-container-id-4 div.sk-item::before, #sk-container-id-4 div.sk-parallel-item::before {content: \"\";position: absolute;border-left: 1px solid gray;box-sizing: border-box;top: 0;bottom: 0;left: 50%;z-index: -1;}#sk-container-id-4 div.sk-parallel-item {display: flex;flex-direction: column;z-index: 1;position: relative;background-color: white;}#sk-container-id-4 div.sk-parallel-item:first-child::after {align-self: flex-end;width: 50%;}#sk-container-id-4 div.sk-parallel-item:last-child::after {align-self: flex-start;width: 50%;}#sk-container-id-4 div.sk-parallel-item:only-child::after {width: 0;}#sk-container-id-4 div.sk-dashed-wrapped {border: 1px dashed gray;margin: 0 0.4em 0.5em 0.4em;box-sizing: border-box;padding-bottom: 0.4em;background-color: white;}#sk-container-id-4 div.sk-label label {font-family: monospace;font-weight: bold;display: inline-block;line-height: 1.2em;}#sk-container-id-4 div.sk-label-container {text-align: center;}#sk-container-id-4 div.sk-container {/* jupyter's `normalize.less` sets `[hidden] { display: none; }` but bootstrap.min.css set `[hidden] { display: none !important; }` so we also need the `!important` here to be able to override the default hidden behavior on the sphinx rendered scikit-learn.org. See: https://github.com/scikit-learn/scikit-learn/issues/21755 */display: inline-block !important;position: relative;}#sk-container-id-4 div.sk-text-repr-fallback {display: none;}</style><div id=\"sk-container-id-4\" class=\"sk-top-container\"><div class=\"sk-text-repr-fallback\"><pre>KMeans(n_clusters=2)</pre><b>In a Jupyter environment, please rerun this cell to show the HTML representation or trust the notebook. <br />On GitHub, the HTML representation is unable to render, please try loading this page with nbviewer.org.</b></div><div class=\"sk-container\" hidden><div class=\"sk-item\"><div class=\"sk-estimator sk-toggleable\"><input class=\"sk-toggleable__control sk-hidden--visually\" id=\"sk-estimator-id-4\" type=\"checkbox\" checked><label for=\"sk-estimator-id-4\" class=\"sk-toggleable__label sk-toggleable__label-arrow\">KMeans</label><div class=\"sk-toggleable__content\"><pre>KMeans(n_clusters=2)</pre></div></div></div></div></div>"
            ]
          },
          "metadata": {},
          "execution_count": 29
        }
      ]
    },
    {
      "cell_type": "code",
      "source": [
        "centroids = kmeans.cluster_centers_\n",
        "label = kmeans.labels_\n",
        "print (\"Cluster Centers are :\", centroids)\n",
        "print (\"Labels :\", label)"
      ],
      "metadata": {
        "colab": {
          "base_uri": "https://localhost:8080/"
        },
        "id": "LSphFoHrCymm",
        "outputId": "748c6248-0718-4db5-a128-164d11ab903a"
      },
      "execution_count": null,
      "outputs": [
        {
          "output_type": "stream",
          "name": "stdout",
          "text": [
            "Cluster Centers are : [[5.22409639 3.1313253 ]\n",
            " [6.61044776 2.96567164]]\n",
            "Labels : [0 1 1 0 1 0 0 1 1 0 0 1 0 1 1 0 0 1 0 1 0 0 0 1 0 1 1 0 0 1 0 0 1 0 0 1 0\n",
            " 1 1 0 1 0 0 0 0 0 1 1 0 0 1 0 0 1 0 1 1 0 0 1 0 0 1 0 1 0 0 1 1 0 1 1 0 1\n",
            " 1 0 1 1 0 1 1 0 1 1 0 1 1 0 0 1 0 0 1 0 0 1 0 0 1 0 1 1 0 0 1 0 1 1 0 1 1\n",
            " 0 1 1 0 0 1 0 0 1 0 0 1 0 1 1 0 0 0 0 0 1 0 0 1 0 0 1 0 0 1 0 1 1 0 0 1 0\n",
            " 0 0]\n"
          ]
        }
      ]
    },
    {
      "cell_type": "code",
      "source": [
        "colours = ['m.','g.','r.', 'k.']\n",
        "for i in range(len(a)):\n",
        "    #print \"Coordinates \", a[i], \"labels\", label[i]\n",
        "    plot.plot(a[i][0], a[i][1], colours[label[i]], markersize = 10 )\n",
        "for i in range(len(centroids)):\n",
        "    plot.plot(centroids[i][0], centroids[i][1], colours[i], markersize = 12, marker='*' )\n",
        "plot.show()"
      ],
      "metadata": {
        "id": "LIkz3gRnC1ee",
        "outputId": "19b21232-187a-4c6e-c385-6914cd01dac3",
        "colab": {
          "base_uri": "https://localhost:8080/",
          "height": 497
        }
      },
      "execution_count": null,
      "outputs": [
        {
          "output_type": "stream",
          "name": "stderr",
          "text": [
            "<ipython-input-31-77a8125db8a3>:6: UserWarning: marker is redundantly defined by the 'marker' keyword argument and the fmt string \"m.\" (-> marker='.'). The keyword argument will take precedence.\n",
            "  plot.plot(centroids[i][0], centroids[i][1], colours[i], markersize = 12, marker='*' )\n",
            "<ipython-input-31-77a8125db8a3>:6: UserWarning: marker is redundantly defined by the 'marker' keyword argument and the fmt string \"g.\" (-> marker='.'). The keyword argument will take precedence.\n",
            "  plot.plot(centroids[i][0], centroids[i][1], colours[i], markersize = 12, marker='*' )\n"
          ]
        },
        {
          "output_type": "display_data",
          "data": {
            "text/plain": [
              "<Figure size 640x480 with 1 Axes>"
            ],
            "image/png": "[encoded data removed]"
          },
          "metadata": {}
        }
      ]
    },
    {
      "cell_type": "code",
      "source": [],
      "metadata": {
        "id": "rpDeBI9vC4Mf"
      },
      "execution_count": null,
      "outputs": []
    }
  ]
}