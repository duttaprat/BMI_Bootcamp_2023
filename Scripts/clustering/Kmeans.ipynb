{
 "cells": [
  {
   "cell_type": "code",
   "execution_count": 9,
   "metadata": {},
   "outputs": [],
   "source": [
    "import numpy as np\n",
    "import matplotlib.pyplot as plot\n",
    "from matplotlib.pyplot import style\n",
    "style.use(\"seaborn-darkgrid\")"
   ]
  },
  {
   "cell_type": "markdown",
   "metadata": {},
   "source": [
    "# Importing Kmeans function from sklearn package"
   ]
  },
  {
   "cell_type": "code",
   "execution_count": 10,
   "metadata": {},
   "outputs": [],
   "source": [
    "from sklearn.cluster import KMeans"
   ]
  },
  {
   "cell_type": "markdown",
   "metadata": {},
   "source": [
    "# Importing silhouette score which act as a cluster validity index for unlabeled data"
   ]
  },
  {
   "cell_type": "code",
   "execution_count": 11,
   "metadata": {},
   "outputs": [],
   "source": [
    "from sklearn.metrics import silhouette_score"
   ]
  },
  {
   "cell_type": "markdown",
   "metadata": {},
   "source": [
    "# Importing adjusted_rand_score which act as a cluster validity index for labeled data"
   ]
  },
  {
   "cell_type": "code",
   "execution_count": 12,
   "metadata": {},
   "outputs": [],
   "source": [
    "from sklearn.metrics import adjusted_rand_score, adjusted_mutual_info_score"
   ]
  },
  {
   "cell_type": "markdown",
   "metadata": {},
   "source": [
    "# Load the 2D data which is a user input "
   ]
  },
  {
   "cell_type": "code",
   "execution_count": 13,
   "metadata": {},
   "outputs": [
    {
     "name": "stdout",
     "output_type": "stream",
     "text": [
      "[[ 1.   2. ]\n",
      " [ 5.   8. ]\n",
      " [ 1.5  1.8]\n",
      " [ 8.   8. ]\n",
      " [ 9.  11. ]\n",
      " [10.   1. ]\n",
      " [ 7.   5. ]\n",
      " [ 9.   2. ]\n",
      " [ 3.   7. ]]\n"
     ]
    }
   ],
   "source": [
    "all_data = np.array([[1, 2], [5,8], [1.5, 1.8] ,[8,8], [9,11], [10,1], [7,5], [9,2], [3,7]])\n",
    "a = all_data\n",
    "print (a)"
   ]
  },
  {
   "cell_type": "markdown",
   "metadata": {},
   "source": [
    "\n",
    "\n",
    "# Call the Kmeans function and train the data"
   ]
  },
  {
   "cell_type": "code",
   "execution_count": 14,
   "metadata": {},
   "outputs": [
    {
     "data": {
      "text/plain": [
       "KMeans(algorithm='auto', copy_x=True, init='k-means++', max_iter=300,\n",
       "    n_clusters=2, n_init=10, n_jobs=None, precompute_distances='auto',\n",
       "    random_state=None, tol=0.0001, verbose=0)"
      ]
     },
     "execution_count": 14,
     "metadata": {},
     "output_type": "execute_result"
    }
   ],
   "source": [
    "kmeans = KMeans(n_clusters=2)\n",
    "kmeans.fit(a)"
   ]
  },
  {
   "cell_type": "markdown",
   "metadata": {},
   "source": [
    "# Obtain centroids and labels as parameters"
   ]
  },
  {
   "cell_type": "code",
   "execution_count": 15,
   "metadata": {},
   "outputs": [
    {
     "name": "stdout",
     "output_type": "stream",
     "text": [
      "Cluster Centers are : [[6.4   7.8  ]\n",
      " [5.375 1.7  ]]\n",
      "Labels : [1 0 1 0 0 1 0 1 0]\n"
     ]
    }
   ],
   "source": [
    "centroids = kmeans.cluster_centers_\n",
    "label = kmeans.labels_\n",
    "print (\"Cluster Centers are :\", centroids)\n",
    "print (\"Labels :\", label)"
   ]
  },
  {
   "cell_type": "markdown",
   "metadata": {},
   "source": [
    "# Plotting the data and their clusters"
   ]
  },
  {
   "cell_type": "code",
   "execution_count": 16,
   "metadata": {},
   "outputs": [
    {
     "data": {
      "image/png": "[encoded data removed]",
      "text/plain": [
       "<Figure size 432x288 with 1 Axes>"
      ]
     },
     "metadata": {},
     "output_type": "display_data"
    }
   ],
   "source": [
    "colours = ['m.','g.','r.', 'k.']\n",
    "for i in range(len(a)):\n",
    "    #print \"Coordinates \", a[i], \"labels\", label[i]\n",
    "    plot.plot(a[i][0], a[i][1], colours[label[i]], markersize = 10 )\n",
    "for i in range(len(centroids)):\n",
    "    plot.plot(centroids[i][0], centroids[i][1], colours[i], markersize = 12, marker='*' )\n",
    "plot.show()"
   ]
  },
  {
   "cell_type": "markdown",
   "metadata": {},
   "source": [
    "# Calculate the cluster goodness"
   ]
  },
  {
   "cell_type": "code",
   "execution_count": 17,
   "metadata": {},
   "outputs": [
    {
     "name": "stdout",
     "output_type": "stream",
     "text": [
      "Silhouette Score:  0.33796436328535506\n"
     ]
    }
   ],
   "source": [
    "Sil_score=silhouette_score(a,label)\n",
    "print (\"Silhouette Score: \", Sil_score)"
   ]
  },
  {
   "cell_type": "markdown",
   "metadata": {},
   "source": [
    "# Now we will load unlabeled data from file. Preprocessing the data from the file is the main task. All the remaining part is same as previous method."
   ]
  },
  {
   "cell_type": "code",
   "execution_count": 20,
   "metadata": {},
   "outputs": [],
   "source": [
    "read_file=open(\"Data_set/21D_data.txt\",'r')\n",
    "read_content= read_file.read()"
   ]
  },
  {
   "cell_type": "markdown",
   "metadata": {},
   "source": [
    "# Getting number of data points and number of features/samples for each data point"
   ]
  },
  {
   "cell_type": "code",
   "execution_count": 21,
   "metadata": {},
   "outputs": [
    {
     "name": "stdout",
     "output_type": "stream",
     "text": [
      "Number of the data points :-  500\n",
      "Number the features/samples :-  21\n"
     ]
    }
   ],
   "source": [
    "all_data= read_content.splitlines()\n",
    "No_data_points=len(all_data)\n",
    "print (\"Number of the data points :- \", No_data_points)\n",
    "features = all_data[0].split(\"\\t\")\n",
    "No_of_features = len(features)\n",
    "print (\"Number the features/samples :- \", No_of_features)"
   ]
  },
  {
   "cell_type": "markdown",
   "metadata": {},
   "source": [
    "# Loading the whole dataset in a 2D matrix"
   ]
  },
  {
   "cell_type": "code",
   "execution_count": 22,
   "metadata": {},
   "outputs": [
    {
     "name": "stdout",
     "output_type": "stream",
     "text": [
      "[[ 357.7  371.2  404.6 ...  414.5  240.7  372.2]\n",
      " [  20.9   18.5   10.8 ...   44.3   14.8   15.6]\n",
      " [   4.7   18.9   17.6 ...    7.2    3.6    6.1]\n",
      " ...\n",
      " [ 703.2  383.3  562.  ... 1699.7  654.9  461.9]\n",
      " [  11.5   18.    10.1 ...   13.5   13.4   14.1]\n",
      " [ 504.3  839.3  330.4 ...  235.   380.8  428.5]]\n"
     ]
    }
   ],
   "source": [
    "a=np.zeros((No_data_points,No_of_features))\n",
    "counter = 0\n",
    "for lines in all_data:\n",
    "    values=lines.split('\\t')\n",
    "    for i in range(0,No_of_features):\n",
    "        a[counter][i]= values[i]\n",
    "    counter+=1\n",
    "    \n",
    "print (a)    # If you want to see the whole dataset"
   ]
  },
  {
   "cell_type": "markdown",
   "metadata": {},
   "source": [
    "# Call the Kmeans function and train the data"
   ]
  },
  {
   "cell_type": "code",
   "execution_count": 23,
   "metadata": {},
   "outputs": [
    {
     "data": {
      "text/plain": [
       "KMeans(algorithm='auto', copy_x=True, init='k-means++', max_iter=300,\n",
       "    n_clusters=3, n_init=10, n_jobs=None, precompute_distances='auto',\n",
       "    random_state=None, tol=0.0001, verbose=0)"
      ]
     },
     "execution_count": 23,
     "metadata": {},
     "output_type": "execute_result"
    }
   ],
   "source": [
    "kmeans = KMeans(n_clusters=3)\n",
    "kmeans.fit(a)"
   ]
  },
  {
   "cell_type": "markdown",
   "metadata": {},
   "source": [
    "# Obtain centroids and labels as parameters"
   ]
  },
  {
   "cell_type": "code",
   "execution_count": 24,
   "metadata": {},
   "outputs": [
    {
     "name": "stdout",
     "output_type": "stream",
     "text": [
      "Cluster Centers are : [[  126.78957055   118.72862986   118.86687117   130.51390593\n",
      "    119.87300613   126.54253579   126.39284254   122.93292434\n",
      "    119.83578732   133.04171779   131.44928425   145.08752556\n",
      "    124.49427403   122.84171779   119.61574642   118.92883436\n",
      "    113.27770961   126.30470348   129.50552147   115.08200409\n",
      "    114.14519427]\n",
      " [12283.1         8427.3        11576.4         8236.3\n",
      "  10226.7         9297.          6623.3        13206.1\n",
      "  14856.4        22455.6        24571.8        14619.7\n",
      "  11570.2        11831.6         9701.4         6557.3\n",
      "  13441.8        10739.7        16926.6        13262.2\n",
      "  12812.8       ]\n",
      " [ 3385.92        2715.45        3273.3         2637.14\n",
      "   2884.79        2886.12        2623.68        2955.49\n",
      "   3654.21        3332.2         3886.72        3782.35\n",
      "   3302.1         3059.78        2699.08        2622.15\n",
      "   3692.67        3419.53        3221.23        2933.65\n",
      "   3586.99      ]]\n",
      "Labels : [0 0 0 0 0 0 0 0 2 0 0 0 0 0 0 0 0 0 0 0 0 0 0 0 0 0 0 0 0 0 0 0 0 0 0 0 0\n",
      " 0 0 0 0 0 0 0 0 0 0 0 0 0 0 0 0 0 0 0 0 0 0 0 0 0 0 0 0 0 0 0 0 0 0 0 0 0\n",
      " 0 0 0 0 0 0 0 0 0 0 0 0 0 0 0 0 0 0 0 0 0 0 0 0 0 0 0 0 0 0 0 0 0 0 0 0 0\n",
      " 0 0 0 0 2 0 0 0 0 0 0 0 0 0 0 0 0 0 0 0 0 0 0 0 0 0 0 0 0 0 0 0 0 0 0 0 0\n",
      " 0 0 0 0 0 0 0 0 0 0 0 0 0 0 0 0 0 0 0 0 0 0 0 0 0 0 0 0 0 2 0 0 0 0 0 0 0\n",
      " 0 0 0 0 0 0 0 0 0 0 0 0 0 2 0 0 0 0 0 0 0 0 0 0 0 0 0 0 0 0 0 0 0 0 0 0 0\n",
      " 0 0 0 0 0 0 0 0 0 0 0 0 0 0 0 0 0 0 0 0 0 0 0 0 0 0 0 0 0 0 0 0 0 2 0 0 0\n",
      " 0 0 0 0 0 0 0 0 0 0 0 0 0 0 0 0 0 0 0 0 0 0 0 0 0 0 0 0 0 0 0 0 0 0 0 0 0\n",
      " 0 0 0 0 0 0 0 0 0 0 0 0 0 0 1 0 0 0 0 0 0 0 0 0 0 0 0 0 0 0 0 0 0 0 0 0 0\n",
      " 0 0 0 0 0 2 0 0 0 0 0 0 0 0 2 0 0 0 0 0 0 0 0 0 0 0 0 0 0 0 0 0 0 0 0 0 0\n",
      " 0 0 0 0 0 0 0 0 0 0 0 0 0 0 0 0 0 0 0 0 0 0 0 2 2 0 0 0 0 0 0 0 0 0 0 0 0\n",
      " 0 0 0 0 0 0 0 0 0 0 0 0 0 0 0 0 0 0 0 0 0 0 0 0 0 0 0 0 0 0 0 0 0 0 0 0 0\n",
      " 0 0 0 0 0 0 0 0 0 2 0 0 0 0 0 0 0 0 0 0 0 0 0 0 0 0 0 0 0 0 0 0 0 0 0 0 0\n",
      " 0 0 0 0 0 0 0 0 0 0 0 0 0 0 0 0 0 0 0]\n"
     ]
    }
   ],
   "source": [
    "centroids = kmeans.cluster_centers_\n",
    "label = kmeans.labels_\n",
    "print (\"Cluster Centers are :\", centroids)\n",
    "print (\"Labels :\", label)"
   ]
  },
  {
   "cell_type": "markdown",
   "metadata": {},
   "source": [
    "# Plotting the data and their clusters"
   ]
  },
  {
   "cell_type": "code",
   "execution_count": 25,
   "metadata": {},
   "outputs": [
    {
     "data": {
      "image/png": "[encoded data removed]",
      "text/plain": [
       "<Figure size 432x288 with 1 Axes>"
      ]
     },
     "metadata": {},
     "output_type": "display_data"
    }
   ],
   "source": [
    "colours = ['m.','g.','r.', 'k.']\n",
    "for i in range(len(a)):\n",
    "    #print \"Coordinates \", a[i], \"labels\", label[i]\n",
    "    plot.plot(a[i][0], a[i][1], colours[label[i]], markersize = 10 )\n",
    "for i in range(len(centroids)):\n",
    "    plot.plot(centroids[i][0], centroids[i][1], colours[i], markersize = 12, marker='*' )\n",
    "plot.show()"
   ]
  },
  {
   "cell_type": "markdown",
   "metadata": {},
   "source": [
    "# Now we will load labeled data from file. Preprocessing the data from the file is the main task. All the remaining part is same as previous method."
   ]
  },
  {
   "cell_type": "code",
   "execution_count": 27,
   "metadata": {},
   "outputs": [],
   "source": [
    "read_file=open(\"Data_set/iris_org.txt\",'r')\n",
    "read_content= read_file.read()"
   ]
  },
  {
   "cell_type": "markdown",
   "metadata": {},
   "source": [
    "# Getting number of data points and number of features/samples for each data point. "
   ]
  },
  {
   "cell_type": "code",
   "execution_count": 28,
   "metadata": {},
   "outputs": [
    {
     "name": "stdout",
     "output_type": "stream",
     "text": [
      "Number of the data points :-  150\n",
      "Number the features/samples :-  4\n"
     ]
    }
   ],
   "source": [
    "all_data= read_content.splitlines()\n",
    "No_data_points=len(all_data)\n",
    "print (\"Number of the data points :- \", No_data_points)\n",
    "features = all_data[0].split(\"\\t\")\n",
    "No_of_features = len(features)-1\n",
    "print (\"Number the features/samples :- \", No_of_features)"
   ]
  },
  {
   "cell_type": "markdown",
   "metadata": {},
   "source": [
    "# Loading the whole dataset in a 2D matrix. Also get the true labels"
   ]
  },
  {
   "cell_type": "code",
   "execution_count": 29,
   "metadata": {},
   "outputs": [],
   "source": [
    "a=np.zeros((No_data_points,No_of_features))\n",
    "true_label = []\n",
    "counter = 0\n",
    "for lines in all_data:\n",
    "    values=lines.split('\\t')\n",
    "    for i in range(0,No_of_features):\n",
    "        a[counter][i]= values[i]\n",
    "    true_label.append(int(values[No_of_features]))     #\n",
    "    counter+=1"
   ]
  },
  {
   "cell_type": "code",
   "execution_count": 30,
   "metadata": {},
   "outputs": [
    {
     "name": "stdout",
     "output_type": "stream",
     "text": [
      "Cluster Centers are : [[5.52962963 2.62222222 3.94074074 1.21851852]\n",
      " [5.006      3.428      1.462      0.246     ]\n",
      " [6.52916667 3.05833333 5.50833333 2.1625    ]\n",
      " [7.475      3.125      6.3        2.05      ]\n",
      " [6.22972973 2.85135135 4.76756757 1.57297297]]\n",
      "Labels : [1 4 2 1 4 4 1 4 3 1 0 2 1 4 2 1 0 3 1 4 0 1 0 3 1 4 2 1 0 3 1 0 2 1 0 2 1\n",
      " 0 2 1 4 4 1 0 2 1 4 2 1 4 2 1 0 3 1 4 3 1 0 4 1 4 2 1 0 4 1 4 3 1 4 4 1 4\n",
      " 2 1 4 3 1 4 4 1 4 4 1 4 2 1 0 3 1 0 3 1 0 3 1 0 2 1 4 4 1 0 4 1 4 3 1 4 2\n",
      " 1 4 2 1 0 4 1 0 2 1 0 2 1 4 2 1 0 4 1 0 2 1 0 2 1 0 2 1 0 4 1 4 2 1 0 2 1\n",
      " 0 4]\n"
     ]
    }
   ],
   "source": [
    "kmeans = KMeans(n_clusters=5)\n",
    "kmeans.fit(a)\n",
    "centroids = kmeans.cluster_centers_\n",
    "label = kmeans.labels_\n",
    "print (\"Cluster Centers are :\", centroids)\n",
    "print (\"Labels :\", label)"
   ]
  },
  {
   "cell_type": "code",
   "execution_count": 31,
   "metadata": {},
   "outputs": [
    {
     "data": {
      "image/png": "[encoded data removed]",
      "text/plain": [
       "<Figure size 432x288 with 1 Axes>"
      ]
     },
     "metadata": {},
     "output_type": "display_data"
    }
   ],
   "source": [
    "colours = ['m.','g.','r.', 'k.','b.']\n",
    "for i in range(len(a)):\n",
    "    plot.plot(a[i][0], a[i][1], colours[label[i]], markersize = 10 )\n",
    "for i in range(len(centroids)):\n",
    "    plot.plot(centroids[i][0], centroids[i][1], colours[i], markersize = 12, marker='*' )\n",
    "plot.show()"
   ]
  },
  {
   "cell_type": "code",
   "execution_count": null,
   "metadata": {},
   "outputs": [],
   "source": []
  },
  {
   "cell_type": "code",
   "execution_count": null,
   "metadata": {},
   "outputs": [],
   "source": []
  },
  {
   "cell_type": "code",
   "execution_count": null,
   "metadata": {},
   "outputs": [],
   "source": []
  }
 ],
 "metadata": {
  "kernelspec": {
   "display_name": "Python 3",
   "language": "python",
   "name": "python3"
  },
  "language_info": {
   "codemirror_mode": {
    "name": "ipython",
    "version": 3
   },
   "file_extension": ".py",
   "mimetype": "text/x-python",
   "name": "python",
   "nbconvert_exporter": "python",
   "pygments_lexer": "ipython3",
   "version": "3.6.6"
  }
 },
 "nbformat": 4,
 "nbformat_minor": 2
}
