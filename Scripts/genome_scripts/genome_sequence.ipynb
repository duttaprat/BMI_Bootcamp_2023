{
 "cells": [
  {
   "cell_type": "code",
   "execution_count": 1,
   "id": "21b5d8ed-8b52-42fe-ad1c-94054c191f60",
   "metadata": {},
   "outputs": [],
   "source": [
    "import pybedtools"
   ]
  },
  {
   "cell_type": "markdown",
   "id": "5c8a4b88-6740-4c69-8337-30c4f800ad8e",
   "metadata": {
    "tags": []
   },
   "source": [
    "## Get a genomic sequence. here in this example we are using a sample of human genome.  \n",
    "### A FASTA file is a commonly used text-based format for representing biological sequences, such as nucleotide sequences (DNA or RNA) or protein sequences. It is widely used in bioinformatics and genomics for storing and exchanging sequence data.\n",
    "\n",
    " * A FASTA file consists of one or more sequence entries, each represented by two parts:\n",
    "   * Header or description line: This line starts with a \">\" symbol followed by a sequence identifier or description. It provides information about the sequence, such as the sequence name, source organism, or any other relevant information. The header is typically a single line and does not contain any sequence data.\n",
    "   * Sequence data: The sequence data is represented as a continuous string of characters on one or more lines following the header. The characters in the sequence represent the individual nucleotides (A, C, G, T, or U for DNA/RNA) or amino acids (20 standard amino acids) in the protein sequence."
   ]
  },
  {
   "cell_type": "code",
   "execution_count": 2,
   "id": "dae47c1f-3c24-4902-a1d5-5a7d6bcd9c94",
   "metadata": {},
   "outputs": [],
   "source": [
    "fasta_sequence_path = \"/home/campus.stonybrook.edu/pdutta/Github/Clustering-algorithms/Data_set/Genome_dataset/test_FASTA.fa\""
   ]
  },
  {
   "cell_type": "code",
   "execution_count": 3,
   "id": "d3b07041-3490-458e-9d4b-f71fb787d174",
   "metadata": {},
   "outputs": [
    {
     "name": "stdout",
     "output_type": "stream",
     "text": [
      ">chr1\n",
      "GATCGATCGATCGATCGATCGATCGATCGATCGATCGATCGATCGATCG\n",
      "ATCGATCGATCTTCTCACTGCTCTGAGCATGAATTCAATATTTCAGGGC\n",
      "AAACTAACTGAATGTTAGAACCAACTCCTGATAAGTCTTGAACAAAAGA\n",
      "TAGGATCCTCTATAAACAGGTTAATCGCCACGACATAGTAGTATTTAGA\n",
      "GTTACTAGTAAGCCTGATGCCACTACACAATTCTAGCTTTTCTCTTTAG\n",
      "GATGATTGTTTCATTCAGTCTTATCTCTTTTAGAAAACATAGGAAAAAA\n",
      "TTATTTAATAATAAAATTTAATTGGCAAAATGAAGGTATGGCTTATAAG\n",
      ">chr2\n",
      "catagtaatatataatgaaatgattctacaactcactataacgtagactc\n",
      "agtgggatctctgagcttgttttcctgcaactagactgtccacctggggt\n",
      "gatgggagacagtaacagaatatcaggcattagattctcataaggagtac\n",
      "acaacctagatccctcgcatgcacacttcacaacagagtttgtgctccta\n",
      "tgacaatctaatgctgctgctgatctgacaggacatggagctcaggtggt\n",
      "catgcaagcgatgggaggggctagaaatacagatgaagtttcccttcact"
     ]
    }
   ],
   "source": [
    "!head -15 /home/campus.stonybrook.edu/pdutta/Github/Clustering-algorithms/Data_set/Genome_dataset/test_FASTA.fa"
   ]
  },
  {
   "cell_type": "code",
   "execution_count": 4,
   "id": "cc18de14-91ec-44a4-bb7b-4568d384b430",
   "metadata": {},
   "outputs": [],
   "source": [
    "fasta_data = pybedtools.BedTool(fasta_sequence_path)"
   ]
  },
  {
   "cell_type": "markdown",
   "id": "7741195b-c181-47b9-aef2-99e8f3e339e5",
   "metadata": {},
   "source": [
    "## Define the genomic coordinates for the region you want to extract (10 to 15, for example):\n",
    "* In BED format, the coordinates are 0-based, which means the first base is numbered 0, the second base is 1, and so on."
   ]
  },
  {
   "cell_type": "code",
   "execution_count": 5,
   "id": "c62451a1-baa2-4f10-9ff1-1175c99cfefa",
   "metadata": {},
   "outputs": [],
   "source": [
    "chrom = \"chr1\"  # Replace with the actual chromosome name\n",
    "start = 1      # 0-based start coordinate (10th nucleotide)\n",
    "end = 20       # 0-based end coordinate (16th nucleotide)"
   ]
  },
  {
   "cell_type": "markdown",
   "id": "02810cd2-d7e0-4d35-b3f8-0a49bcc8909d",
   "metadata": {},
   "source": [
    "### Create a BedTool interval from your desired genomic coordinates:\n",
    "* it is formated as `chromosome_number`:`start_position`-`end_position`"
   ]
  },
  {
   "cell_type": "code",
   "execution_count": 6,
   "id": "a0877c55-b00d-4efc-a2fb-82ef89bcf501",
   "metadata": {},
   "outputs": [],
   "source": [
    "bed_interval = chrom+\":\"+str(start)+\"-\"+str(end)"
   ]
  },
  {
   "cell_type": "markdown",
   "id": "deeb22e0-2b2f-442e-83d3-cecdc7ebec53",
   "metadata": {},
   "source": [
    "### Extract the sequence of the specified region using the `BedTool.seq` method:\n",
    "* The `BedTool.seq` method allows you to extract the sequence from the specified region in the FASTA file."
   ]
  },
  {
   "cell_type": "code",
   "execution_count": 7,
   "id": "2486a172-4440-4edb-a15a-fa72c13bd025",
   "metadata": {},
   "outputs": [
    {
     "data": {
      "text/plain": [
       "'GATCGATCGATCGATCGATC'"
      ]
     },
     "execution_count": 7,
     "metadata": {},
     "output_type": "execute_result"
    }
   ],
   "source": [
    "extracted_sequence = pybedtools.BedTool.seq(bed_interval, fasta_sequence_path)\n",
    "extracted_sequence"
   ]
  },
  {
   "cell_type": "markdown",
   "id": "f228b855-daae-4481-9997-657968b2524f",
   "metadata": {},
   "source": [
    "## Reverse the genomic sequence"
   ]
  },
  {
   "cell_type": "code",
   "execution_count": 8,
   "id": "e8fb2bec-8d65-4335-a50f-fc9de23ec8a0",
   "metadata": {},
   "outputs": [],
   "source": [
    "def reverse_string(input_string):\n",
    "    return input_string[::-1]"
   ]
  },
  {
   "cell_type": "code",
   "execution_count": 9,
   "id": "c5c6a3a0-5647-47fe-8fae-ab24a300ef6f",
   "metadata": {},
   "outputs": [],
   "source": [
    "rev_sequence = reverse_string(extracted_sequence)"
   ]
  },
  {
   "cell_type": "code",
   "execution_count": 10,
   "id": "2588ddd0-d066-4968-a7ad-b3eb940c9b2d",
   "metadata": {},
   "outputs": [
    {
     "data": {
      "text/plain": [
       "'CTAGCTAGCTAGCTAGCTAG'"
      ]
     },
     "execution_count": 10,
     "metadata": {},
     "output_type": "execute_result"
    }
   ],
   "source": [
    "rev_sequence"
   ]
  },
  {
   "cell_type": "markdown",
   "id": "c258c000-21fa-4843-9ab0-aa010d98fe86",
   "metadata": {},
   "source": [
    "## Mutation\n",
    "* In the context of the human genome sequence, a mutation refers to any change or alteration in the DNA sequence. These changes can occur naturally during DNA replication or as a result of various external factors, such as exposure to mutagenic agents or errors in DNA repair mechanisms. Mutations can affect a single nucleotide (point mutation) or involve the insertion, deletion, or rearrangement of larger segments of DNA."
   ]
  },
  {
   "cell_type": "markdown",
   "id": "042fa923-59d6-47ee-b3fa-8ab733a36876",
   "metadata": {},
   "source": [
    "### Get the mutation positions"
   ]
  },
  {
   "cell_type": "code",
   "execution_count": 11,
   "id": "059343ad-bcce-4254-b19e-39f4b86b71ed",
   "metadata": {},
   "outputs": [],
   "source": [
    "mutation_positions = [2, 7, 12]\n",
    "mutated_nucleotides = [\"T\", \"G\", \"C\"]"
   ]
  },
  {
   "cell_type": "markdown",
   "id": "9751dd67-4440-40ce-8674-bd250e689bd1",
   "metadata": {},
   "source": [
    "### Function for mutated sequece"
   ]
  },
  {
   "cell_type": "code",
   "execution_count": 13,
   "id": "f71b7a50-6915-458f-9106-76001dd08d91",
   "metadata": {},
   "outputs": [],
   "source": [
    "def apply_mutation(genome_sequence, mutation_positions, mutated_nucleotides):\n",
    "    if len(mutation_positions) != len(mutated_nucleotides):\n",
    "        raise ValueError(\"The number of mutation positions must be equal to the number of mutated nucleotides.\")\n",
    "\n",
    "    mutated_sequence = genome_sequence\n",
    "    for position, nucleotide in zip(mutation_positions, mutated_nucleotides):\n",
    "        if position < 0 or position >= len(genome_sequence):\n",
    "            raise ValueError(f\"Invalid mutation position: {position}. Position must be within the genome sequence.\")\n",
    "        mutated_sequence = mutated_sequence[:position] + nucleotide + mutated_sequence[position + 1:]\n",
    "    \n",
    "    return mutated_sequence"
   ]
  },
  {
   "cell_type": "code",
   "execution_count": 14,
   "id": "4e479a3d-f14f-4eee-90f6-89c03055c989",
   "metadata": {},
   "outputs": [
    {
     "name": "stdout",
     "output_type": "stream",
     "text": [
      "Original genome sequence: CTAGCTAGCTAGCTAGCTAG\n",
      "Mutated genome sequence: CTTGCTAGCTAGCTAGCTAG\n"
     ]
    }
   ],
   "source": [
    "mutated_sequence = apply_mutation(rev_sequence, mutation_positions, mutated_nucleotides)\n",
    "print(\"Original genome sequence:\", rev_sequence)\n",
    "print(\"Mutated genome sequence:\", mutated_sequence)"
   ]
  },
  {
   "cell_type": "code",
   "execution_count": null,
   "id": "d7ba3623-54f2-4a04-bc0c-51f780acca91",
   "metadata": {},
   "outputs": [],
   "source": []
  }
 ],
 "metadata": {
  "kernelspec": {
   "display_name": "Python 3 (ipykernel)",
   "language": "python",
   "name": "python3"
  },
  "language_info": {
   "codemirror_mode": {
    "name": "ipython",
    "version": 3
   },
   "file_extension": ".py",
   "mimetype": "text/x-python",
   "name": "python",
   "nbconvert_exporter": "python",
   "pygments_lexer": "ipython3",
   "version": "3.10.11"
  }
 },
 "nbformat": 4,
 "nbformat_minor": 5
}
