{
 "cells": [
  {
   "cell_type": "markdown",
   "id": "5c8a4b88-6740-4c69-8337-30c4f800ad8e",
   "metadata": {
    "tags": []
   },
   "source": [
    "## Introduction to String\n",
    "   ### Topics to be covered\n",
    "   * [Creating String and assigning to variable](#string_creation)\n",
    "   * [Concatenation of strings](#string_concat) \n",
    "   * [Length of a string](#string_length)\n",
    "   * [String Indexing](#string_index)\n",
    "   * [String Slicing](#string_slice)\n",
    "   * [Splitting String](#string_spliting)\n",
    "   * [Some common practices](#string_function)\n",
    "   * [String reversing](#string_reverse)\n",
    "   * [String Mutation](#string_mutation)"
   ]
  },
  {
   "cell_type": "markdown",
   "id": "d6796bb6-624c-46a5-8978-94d6f72b3473",
   "metadata": {},
   "source": [
    "<a id='string_creation'></a>\n",
    "### Creating String and assigning to variable"
   ]
  },
  {
   "cell_type": "code",
   "execution_count": 4,
   "id": "d3b07041-3490-458e-9d4b-f71fb787d174",
   "metadata": {},
   "outputs": [
    {
     "name": "stdout",
     "output_type": "stream",
     "text": [
      "Hello, World!\n"
     ]
    }
   ],
   "source": [
    "your_string = \"Hello, World!\"\n",
    "print(your_string)"
   ]
  },
  {
   "cell_type": "code",
   "execution_count": 5,
   "id": "cc18de14-91ec-44a4-bb7b-4568d384b430",
   "metadata": {},
   "outputs": [
    {
     "name": "stdout",
     "output_type": "stream",
     "text": [
      "We all are from Stony Brook University\n"
     ]
    }
   ],
   "source": [
    "# Creating Strings in Python\n",
    "school = \"Stony Brook University\"\n",
    "print(f\"We all are from {school}\")"
   ]
  },
  {
   "cell_type": "markdown",
   "id": "7741195b-c181-47b9-aef2-99e8f3e339e5",
   "metadata": {},
   "source": [
    "<a id='string_concat'></a>\n",
    "### String Concatenation"
   ]
  },
  {
   "cell_type": "code",
   "execution_count": 13,
   "id": "c62451a1-baa2-4f10-9ff1-1175c99cfefa",
   "metadata": {},
   "outputs": [
    {
     "name": "stdout",
     "output_type": "stream",
     "text": [
      "Stony Brook\n"
     ]
    }
   ],
   "source": [
    "# Try concatenating two strings\n",
    "string1 = \"Stony\"\n",
    "string2 = \"Brook\"\n",
    "concatenated_string = string1 + \" \" + string2\n",
    "print(concatenated_string)"
   ]
  },
  {
   "cell_type": "code",
   "execution_count": 8,
   "id": "e62c8e66-fccd-476c-a834-8dc3dad0fb2d",
   "metadata": {},
   "outputs": [
    {
     "name": "stdout",
     "output_type": "stream",
     "text": [
      "The Biology department at Stony Brook University is great!\n"
     ]
    }
   ],
   "source": [
    "# String Concatenation\n",
    "department = \"Biology\"\n",
    "print(f\"The {department} department at {school} is great!\")"
   ]
  },
  {
   "cell_type": "code",
   "execution_count": 11,
   "id": "840ab04f-16f1-418b-b7e5-abc8c63f6eb8",
   "metadata": {},
   "outputs": [
    {
     "name": "stdout",
     "output_type": "stream",
     "text": [
      "The  Biology department at  Stony Brook University is great!\n"
     ]
    }
   ],
   "source": [
    "print(\"The \", department ,\"department at \" , school ,\"is great!\")"
   ]
  },
  {
   "cell_type": "markdown",
   "id": "02810cd2-d7e0-4d35-b3f8-0a49bcc8909d",
   "metadata": {},
   "source": [
    "<a id=\"string_length\"></a> \n",
    "### Length of a string"
   ]
  },
  {
   "cell_type": "code",
   "execution_count": 17,
   "id": "a0877c55-b00d-4efc-a2fb-82ef89bcf501",
   "metadata": {},
   "outputs": [],
   "source": [
    "word =\" Stony Brook University\"\n",
    "word1 = \"Stony\"\n",
    "word2 = \"Stony \"\n",
    "word3 = \" Stony Brook \""
   ]
  },
  {
   "cell_type": "code",
   "execution_count": 15,
   "id": "d0aae4ad-8710-4ce4-bc56-a1fdbed00e7b",
   "metadata": {},
   "outputs": [
    {
     "data": {
      "text/plain": [
       "23"
      ]
     },
     "execution_count": 15,
     "metadata": {},
     "output_type": "execute_result"
    }
   ],
   "source": [
    "len(word)"
   ]
  },
  {
   "cell_type": "code",
   "execution_count": 16,
   "id": "66962b1c-fd3f-46e8-853f-73bd6a65a3e5",
   "metadata": {},
   "outputs": [
    {
     "data": {
      "text/plain": [
       "6"
      ]
     },
     "execution_count": 16,
     "metadata": {},
     "output_type": "execute_result"
    }
   ],
   "source": [
    "len(word1)"
   ]
  },
  {
   "cell_type": "code",
   "execution_count": 18,
   "id": "03863c05-4da1-4d0f-8ee8-ec7698153626",
   "metadata": {},
   "outputs": [
    {
     "data": {
      "text/plain": [
       "6"
      ]
     },
     "execution_count": 18,
     "metadata": {},
     "output_type": "execute_result"
    }
   ],
   "source": [
    "len(word2)"
   ]
  },
  {
   "cell_type": "markdown",
   "id": "8c8de0ba-74dd-4ec9-85e1-e7fdf32bca6c",
   "metadata": {},
   "source": [
    "<a id='string_index'></a>\n",
    "### String Indexing"
   ]
  },
  {
   "cell_type": "code",
   "execution_count": 21,
   "id": "cacfadd4-38f6-465e-8d73-94931efd3ff9",
   "metadata": {},
   "outputs": [
    {
     "name": "stdout",
     "output_type": "stream",
     "text": [
      "The first letter of our university name is. S\n"
     ]
    }
   ],
   "source": [
    "school = \"Stony Brook university\"\n",
    "print(\"The first letter of our university name is.\", school[0])"
   ]
  },
  {
   "cell_type": "markdown",
   "id": "deeb22e0-2b2f-442e-83d3-cecdc7ebec53",
   "metadata": {},
   "source": [
    "<a id='string_slice'></a>\n",
    "### String Slicing"
   ]
  },
  {
   "cell_type": "code",
   "execution_count": 25,
   "id": "2486a172-4440-4edb-a15a-fa72c13bd025",
   "metadata": {},
   "outputs": [
    {
     "name": "stdout",
     "output_type": "stream",
     "text": [
      "The first eight letters of the ship name are Millenni.\n",
      "The first four letters of my favorite Sci-Fi character are Neo.\n"
     ]
    }
   ],
   "source": [
    "# String Slicing\n",
    "ship = \"Millennium Falcon\"\n",
    "character1 = \"Neo\"\n",
    "\n",
    "\n",
    "first_eight_letters = ship[:8]\n",
    "print(f\"The first eight letters of the ship name are {first_eight_letters}.\")\n",
    "\n",
    "# Can you find the first four letters of your favorite Sci-Fi character?\n",
    "first_four_letters = character1[:4]\n",
    "print(f\"The first four letters of my favorite Sci-Fi character are {first_four_letters}.\")"
   ]
  },
  {
   "cell_type": "markdown",
   "id": "f228b855-daae-4481-9997-657968b2524f",
   "metadata": {},
   "source": [
    "<a id=string_spliting></a>\n",
    "### String Splitting"
   ]
  },
  {
   "cell_type": "code",
   "execution_count": 26,
   "id": "e8fb2bec-8d65-4335-a50f-fc9de23ec8a0",
   "metadata": {},
   "outputs": [
    {
     "name": "stdout",
     "output_type": "stream",
     "text": [
      "Original quote: May the Force be with you.\n",
      "Splitted into words: ['May', 'the', 'Force', 'be', 'with', 'you.']\n"
     ]
    }
   ],
   "source": [
    "# Basic example of splitting a string by spaces using a quote from Star Wars\n",
    "quote = \"May the Force be with you.\"\n",
    "words = quote.split(\" \")\n",
    "print(f\"Original quote: {quote}\")\n",
    "print(f\"Splitted into words: {words}\")"
   ]
  },
  {
   "cell_type": "code",
   "execution_count": 27,
   "id": "c5c6a3a0-5647-47fe-8fae-ab24a300ef6f",
   "metadata": {},
   "outputs": [
    {
     "data": {
      "text/plain": [
       "['The Godfather', 'Star Wars', 'Inception']"
      ]
     },
     "execution_count": 27,
     "metadata": {},
     "output_type": "execute_result"
    }
   ],
   "source": [
    "csv_movies = \"The Godfather,Star Wars,Inception\"\n",
    "movie_list = csv_movies.split(\",\")\n",
    "movie_list"
   ]
  },
  {
   "cell_type": "markdown",
   "id": "512a1593-996d-4618-9c98-298f40d8aa6f",
   "metadata": {},
   "source": [
    "<a id=string_function></a>\n",
    "### Common String operations"
   ]
  },
  {
   "cell_type": "code",
   "execution_count": 31,
   "id": "0b51817e-7f79-4722-8a02-9dea8003f38d",
   "metadata": {},
   "outputs": [
    {
     "name": "stdout",
     "output_type": "stream",
     "text": [
      "Upper case: STONY BROOK UNIVERSITY\n",
      "Lower case: stony brook university\n"
     ]
    }
   ],
   "source": [
    "# String Methods\n",
    "print(f\"Upper case: {school.upper()}\")\n",
    "print(f\"Lower case: {school.lower()}\")"
   ]
  },
  {
   "cell_type": "markdown",
   "id": "8a4b5834-5c74-44e7-9c56-e2bd3ae06b3f",
   "metadata": {},
   "source": [
    "<a id=string_reverse></a>\n",
    "### String Reverse"
   ]
  },
  {
   "cell_type": "code",
   "execution_count": 45,
   "id": "1da613bc-15b6-407c-9694-0d843ee34add",
   "metadata": {},
   "outputs": [
    {
     "name": "stdout",
     "output_type": "stream",
     "text": [
      "Original DNA sequence: GATCGATCGATCGATCGATC\n",
      "Reversed DNA sequence: CTAGCTAGCTAGCTAGCTAG\n"
     ]
    }
   ],
   "source": [
    "dna_sequence = \"GATCGATCGATCGATCGATC\"\n",
    "reversed_dna = dna_sequence[::-1]\n",
    "print(f\"Original DNA sequence: {dna_sequence}\")\n",
    "print(f\"Reversed DNA sequence: {reversed_dna}\")"
   ]
  },
  {
   "cell_type": "markdown",
   "id": "c258c000-21fa-4843-9ab0-aa010d98fe86",
   "metadata": {},
   "source": [
    "<a div=string_mutation></a>\n",
    "## Mutation\n",
    "* In the context of the human genome sequence, a mutation refers to any change or alteration in the DNA sequence. These changes can occur naturally during DNA replication or as a result of various external factors, such as exposure to mutagenic agents or errors in DNA repair mechanisms. Mutations can affect a single nucleotide (point mutation) or involve the insertion, deletion, or rearrangement of larger segments of DNA."
   ]
  },
  {
   "cell_type": "markdown",
   "id": "042fa923-59d6-47ee-b3fa-8ab733a36876",
   "metadata": {},
   "source": [
    "### Get the mutation positions"
   ]
  },
  {
   "cell_type": "code",
   "execution_count": 46,
   "id": "059343ad-bcce-4254-b19e-39f4b86b71ed",
   "metadata": {},
   "outputs": [],
   "source": [
    "mutation_positions = [2, 7, 12]\n",
    "mutated_nucleotides = [\"T\", \"G\", \"C\"]"
   ]
  },
  {
   "cell_type": "markdown",
   "id": "9751dd67-4440-40ce-8674-bd250e689bd1",
   "metadata": {},
   "source": [
    "### Function for mutated sequece"
   ]
  },
  {
   "cell_type": "code",
   "execution_count": 47,
   "id": "f71b7a50-6915-458f-9106-76001dd08d91",
   "metadata": {},
   "outputs": [],
   "source": [
    "def apply_mutation(genome_sequence, mutation_positions, mutated_nucleotides):\n",
    "    mutated_sequence = genome_sequence\n",
    "    for position, nucleotide in zip(mutation_positions, mutated_nucleotides):\n",
    "        if position < 0 or position >= len(genome_sequence):\n",
    "            raise ValueError(f\"Invalid mutation position: {position}. Position must be within the genome sequence.\")\n",
    "        mutated_sequence = mutated_sequence[:position] + nucleotide + mutated_sequence[position + 1:]\n",
    "    \n",
    "    return mutated_sequence"
   ]
  },
  {
   "cell_type": "code",
   "execution_count": 49,
   "id": "4e479a3d-f14f-4eee-90f6-89c03055c989",
   "metadata": {},
   "outputs": [
    {
     "name": "stdout",
     "output_type": "stream",
     "text": [
      "Original genome sequence: GATCGATCGATCGATCGATC\n",
      "Mutated genome sequence: GATCGATGGATCCATCGATC\n"
     ]
    }
   ],
   "source": [
    "mutated_sequence = apply_mutation(dna_sequence, mutation_positions, mutated_nucleotides)\n",
    "print(\"Original genome sequence:\", dna_sequence)\n",
    "print(\"Mutated genome sequence:\", mutated_sequence)"
   ]
  },
  {
   "cell_type": "code",
   "execution_count": null,
   "id": "d7ba3623-54f2-4a04-bc0c-51f780acca91",
   "metadata": {},
   "outputs": [],
   "source": []
  }
 ],
 "metadata": {
  "kernelspec": {
   "display_name": "Python 3 (ipykernel)",
   "language": "python",
   "name": "python3"
  },
  "language_info": {
   "codemirror_mode": {
    "name": "ipython",
    "version": 3
   },
   "file_extension": ".py",
   "mimetype": "text/x-python",
   "name": "python",
   "nbconvert_exporter": "python",
   "pygments_lexer": "ipython3",
   "version": "3.10.11"
  }
 },
 "nbformat": 4,
 "nbformat_minor": 5
}
